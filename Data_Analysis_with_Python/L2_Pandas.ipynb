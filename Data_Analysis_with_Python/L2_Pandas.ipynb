{
 "cells": [
  {
   "cell_type": "code",
   "execution_count": null,
   "id": "4293a96b",
   "metadata": {},
   "outputs": [
    {
     "name": "stdout",
     "output_type": "stream",
     "text": [
      "0    1\n",
      "1    2\n",
      "2    3\n",
      "dtype: int64\n",
      "name         Dhanesh\n",
      "age               21\n",
      "isStudent       True\n",
      "dtype: object\n",
      "name-Dhanesh age-21 isStudent-True \n",
      "a    1\n",
      "b    2\n",
      "c    3\n",
      "dtype: int64\n",
      "   0   1   2   3\n",
      "0  1   2   3   4\n",
      "1  5   6   7   8\n",
      "2  9  10  11  12\n",
      "10\n",
      "7\n",
      "      name  age firstName  height\n",
      "a  Dhanesh   21   Dhanesh      21\n",
      "b      Ram   22       Ram      22\n",
      "c      Raj   20       Raj      20\n",
      "d     Sita   20      Sita      20\n"
     ]
    }
   ],
   "source": [
    "# Pandas -> 1d + 2d array \n",
    "# series -> 1d array like object\n",
    "# DataFrames -> 2d array, size mutable, heterogenours tabular data structure\n",
    "\n",
    "import pandas as pd\n",
    "\n",
    "\n",
    "## series\n",
    "data = [1,2,3]\n",
    "dt = pd.Series(data)\n",
    "print(dt)\n",
    "\n",
    "data = {'name':'Dhanesh','age':21, 'isStudent':True}\n",
    "dt = pd.Series(data)\n",
    "print(dt)\n",
    "for key, value in data.items():\n",
    "    print(f'{key}-{value}', end=' ')\n",
    "\n",
    "print()\n",
    "indexArray = ['a','b','c']\n",
    "data = [1,2,3]\n",
    "data = pd.Series(data,index=indexArray)\n",
    "print(data)\n",
    "\n",
    "\n",
    "\n",
    "## DataFrames -> 2d \n",
    "data = [\n",
    "    [1,2,3,4],\n",
    "    [5,6,7,8],\n",
    "    [9,10,11,12]\n",
    "]\n",
    "dt = pd.DataFrame(data)\n",
    "print(dt)\n",
    "# here first [] -> col and second [] -> row\n",
    "print(dt[1][2])\n",
    "print(dt[2][1])\n",
    "\n",
    "#custom indexing \n",
    "index = ['a','b','c','d']\n",
    "data = {\n",
    "    'name' : ['Dhanesh','Ram','Raj','Sita'],\n",
    "    'age' : [21,22,20,20],\n",
    "    'firstName' : ['Dhanesh','Ram','Raj','Sita'],\n",
    "    'height' : [21,22,20,20],\n",
    "}\n",
    "dt = pd.DataFrame(data, index=index)\n",
    "print(dt)\n"
   ]
  },
  {
   "cell_type": "code",
   "execution_count": 46,
   "id": "1d243b2c",
   "metadata": {},
   "outputs": [
    {
     "name": "stdout",
     "output_type": "stream",
     "text": [
      "      Name  age\n",
      "0  Dhanesh   21\n",
      "1  Dhanesh   22\n",
      "2  Dhanesh   23\n",
      "3  Dhanesh   25\n",
      "23\n",
      "22\n",
      "Name    Dhanesh\n",
      "age          23\n",
      "Name: 2, dtype: object\n",
      "      Name  age\n",
      "0  Dhanesh  123\n",
      "1  Dhanesh  124\n",
      "2  Dhanesh  134\n",
      "3  Dhanesh   34\n"
     ]
    }
   ],
   "source": [
    "data = [\n",
    "    {'Name':\"Dhanesh\",'age':21},\n",
    "    {'Name':\"Dhanesh\",'age':22},\n",
    "    {'Name':\"Dhanesh\",'age':23},\n",
    "    {'Name':\"Dhanesh\",'age':25},\n",
    "]\n",
    "dt = pd.DataFrame(data)\n",
    "print(dt)\n",
    "print(dt.at[2,'age'])\n",
    "print(dt['age'][1])\n",
    "\n",
    "print(dt.iloc[2]) # gives row \n",
    "\n",
    "dt['age'] = [123,124,134,34]\n",
    "print(dt)\n"
   ]
  },
  {
   "cell_type": "code",
   "execution_count": null,
   "id": "296401a7",
   "metadata": {},
   "outputs": [
    {
     "name": "stdout",
     "output_type": "stream",
     "text": [
      "      name  age\n",
      "0  Dhanesh   21\n",
      "1  Dhanesh   22\n",
      "2  Dhanesh   23\n",
      "3  Dhanesh   23\n",
      "4  Dhanesh   23\n",
      "5  Dhanesh   23\n",
      "      name  age  Height\n",
      "0  Dhanesh   21      13\n",
      "1  Dhanesh   22      34\n",
      "2  Dhanesh   23      23\n",
      "3  Dhanesh   23      23\n",
      "4  Dhanesh   23      21\n",
      "5  Dhanesh   23      43\n",
      "      name  age  Height\n",
      "0  Dhanesh   21      13\n",
      "1  Dhanesh   22      34\n",
      "2  Dhanesh   23      23\n",
      "3  Dhanesh   23      23\n",
      "4  Dhanesh   23      21\n",
      "5  Dhanesh   23      43\n",
      "      name  age\n",
      "0  Dhanesh   21\n",
      "1  Dhanesh   22\n",
      "2  Dhanesh   23\n",
      "3  Dhanesh   23\n",
      "4  Dhanesh   23\n",
      "5  Dhanesh   23\n",
      "      name  age\n",
      "0  Dhanesh   31\n",
      "1  Dhanesh   32\n",
      "2  Dhanesh   33\n",
      "3  Dhanesh   33\n",
      "4  Dhanesh   33\n",
      "5  Dhanesh   33\n",
      "      name  age\n",
      "0  Dhanesh   31\n",
      "2  Dhanesh   33\n",
      "3  Dhanesh   33\n",
      "4  Dhanesh   33\n",
      "5  Dhanesh   33\n",
      "      name  age\n",
      "0  Dhanesh   31\n",
      "2  Dhanesh   33\n",
      "      name  age\n",
      "4  Dhanesh   33\n",
      "5  Dhanesh   33\n"
     ]
    }
   ],
   "source": [
    "data = [\n",
    "    {'name':'Dhanesh','age':21},\n",
    "    {'name':'Dhanesh','age':22},\n",
    "    {'name':'Dhanesh','age':23},\n",
    "    {'name':'Dhanesh','age':23},\n",
    "    {'name':'Dhanesh','age':23},\n",
    "    {'name':'Dhanesh','age':23},\n",
    "]\n",
    "dt = pd.DataFrame(data)\n",
    "print(dt)\n",
    "dt['Height'] = [13,34,23,23,21,43]\n",
    "print(dt)\n",
    "dt.drop('Height', axis=1) ## temporary and default axis 0 ->row\n",
    "print(dt)\n",
    "dt.drop('Height',axis=1,inplace=True)\n",
    "print(dt)\n",
    "\n",
    "dt['age'] += 10\n",
    "print(dt)\n",
    "\n",
    "# to drop row in place\n",
    "dt.drop(1,axis=0,inplace=True)\n",
    "print(dt)\n"
   ]
  },
  {
   "cell_type": "code",
   "execution_count": 58,
   "id": "c4a40d42",
   "metadata": {},
   "outputs": [
    {
     "name": "stdout",
     "output_type": "stream",
     "text": [
      "      name  age\n",
      "0  Dhanesh   31\n",
      "2  Dhanesh   33\n",
      "      name  age\n",
      "4  Dhanesh   33\n",
      "5  Dhanesh   33\n"
     ]
    }
   ],
   "source": [
    "print(dt.head(2))\n",
    "print(dt.tail(2))"
   ]
  }
 ],
 "metadata": {
  "kernelspec": {
   "display_name": "env",
   "language": "python",
   "name": "python3"
  },
  "language_info": {
   "codemirror_mode": {
    "name": "ipython",
    "version": 3
   },
   "file_extension": ".py",
   "mimetype": "text/x-python",
   "name": "python",
   "nbconvert_exporter": "python",
   "pygments_lexer": "ipython3",
   "version": "3.12.11"
  }
 },
 "nbformat": 4,
 "nbformat_minor": 5
}
