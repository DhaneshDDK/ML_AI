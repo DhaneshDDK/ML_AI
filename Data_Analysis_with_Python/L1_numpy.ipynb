{
 "cells": [
  {
   "cell_type": "code",
   "execution_count": null,
   "id": "559df3c9",
   "metadata": {},
   "outputs": [
    {
     "name": "stdout",
     "output_type": "stream",
     "text": [
      "(2, 4)\n",
      "(3,)\n",
      "<class 'numpy.ndarray'>\n",
      "<class 'numpy.ndarray'>\n"
     ]
    },
    {
     "data": {
      "text/plain": [
       "array([1, 2, 3])"
      ]
     },
     "execution_count": 17,
     "metadata": {},
     "output_type": "execute_result"
    }
   ],
   "source": [
    "# At its core numpy is all about nd array and data manipulation\n",
    "\n",
    "import numpy as np\n",
    "\n",
    "# 2D array\n",
    "arr1 = np.array([[1,2,3,4],[1,2,3,4]])\n",
    "print(arr1.shape)\n",
    "\n",
    "# 1D array\n",
    "arr = np.array([1,2,3])\n",
    "print(arr.shape)\n",
    "print(type(arr))\n",
    "print(type(arr1))\n",
    "\n",
    "arr.reshape(1,3)"
   ]
  },
  {
   "cell_type": "code",
   "execution_count": 20,
   "id": "715ebfd9",
   "metadata": {},
   "outputs": [
    {
     "name": "stdout",
     "output_type": "stream",
     "text": [
      "[3 5 6 8]\n",
      "[ 2  6  9 16]\n",
      "[0.5        0.66666667 1.         1.        ]\n",
      "[0 0 1 1]\n",
      "[0 0 0 0]\n",
      "[3 1 0 0]\n",
      "[  1   8  27 256]\n"
     ]
    }
   ],
   "source": [
    "arr1 = np.array([1,2,3,4], dtype=np.int64)\n",
    "arr2 = np.array([2,3,3,4], dtype=np.int64)\n",
    "print(arr1+arr2)\n",
    "print(arr1*arr2)\n",
    "print(arr1/arr2)\n",
    "print(arr1//arr2)\n",
    "print(arr1%arr1)\n",
    "print(arr1^arr2)\n",
    "print(arr1**arr2)"
   ]
  },
  {
   "cell_type": "code",
   "execution_count": 33,
   "id": "06bd0dbd",
   "metadata": {},
   "outputs": [
    {
     "name": "stdout",
     "output_type": "stream",
     "text": [
      "[ 2.+4.j  6.+0.j 10.+2.j]\n",
      "[-3. +4.j  9. +0.j 24.+10.j]\n",
      "[1.27201965+0.78615138j 1.73205081+0.j         2.24711143+0.22250788j]\n",
      "[ 2.71828183  7.3890561  20.08553692]\n",
      "[0.84147098 0.90929743 0.14112001]\n",
      "[0.         0.69314718 1.09861229]\n"
     ]
    }
   ],
   "source": [
    "# complex numbers\n",
    "arr1 = np.array([1+2j, 3, 5+1j],dtype='complex')\n",
    "arr2 = np.array([1+2j, 3, 5+1j],dtype='complex')\n",
    "print(arr1+arr2)\n",
    "print(arr1*arr2)\n",
    "print(np.sqrt(arr1))\n",
    "arr = np.array([1,2,3])\n",
    "print(np.exp(arr))\n",
    "print(np.sin(arr))\n",
    "print(np.log(arr))"
   ]
  },
  {
   "cell_type": "code",
   "execution_count": 27,
   "id": "d842c11e",
   "metadata": {},
   "outputs": [
    {
     "name": "stdout",
     "output_type": "stream",
     "text": [
      "[[1. 0. 0. 0. 0. 0. 0. 0. 0. 0.]\n",
      " [0. 1. 0. 0. 0. 0. 0. 0. 0. 0.]\n",
      " [0. 0. 1. 0. 0. 0. 0. 0. 0. 0.]\n",
      " [0. 0. 0. 1. 0. 0. 0. 0. 0. 0.]\n",
      " [0. 0. 0. 0. 1. 0. 0. 0. 0. 0.]\n",
      " [0. 0. 0. 0. 0. 1. 0. 0. 0. 0.]\n",
      " [0. 0. 0. 0. 0. 0. 1. 0. 0. 0.]\n",
      " [0. 0. 0. 0. 0. 0. 0. 1. 0. 0.]\n",
      " [0. 0. 0. 0. 0. 0. 0. 0. 1. 0.]\n",
      " [0. 0. 0. 0. 0. 0. 0. 0. 0. 1.]]\n",
      "\n",
      "[[1. 1. 1. 1. 1. 1. 1. 1. 1. 1.]\n",
      " [1. 1. 1. 1. 1. 1. 1. 1. 1. 1.]\n",
      " [1. 1. 1. 1. 1. 1. 1. 1. 1. 1.]\n",
      " [1. 1. 1. 1. 1. 1. 1. 1. 1. 1.]\n",
      " [1. 1. 1. 1. 1. 1. 1. 1. 1. 1.]]\n",
      "\n",
      "[[0. 0. 0. 0. 0. 0. 0. 0. 0. 0.]\n",
      " [0. 0. 0. 0. 0. 0. 0. 0. 0. 0.]\n",
      " [0. 0. 0. 0. 0. 0. 0. 0. 0. 0.]\n",
      " [0. 0. 0. 0. 0. 0. 0. 0. 0. 0.]\n",
      " [0. 0. 0. 0. 0. 0. 0. 0. 0. 0.]]\n"
     ]
    }
   ],
   "source": [
    "identityMatrix = np.eye(10)\n",
    "onesMatrix = np.ones((5,10))\n",
    "zerosMatrix = np.zeros((5,10))\n",
    "print(identityMatrix)\n",
    "print()\n",
    "print(onesMatrix)\n",
    "print()\n",
    "print(zerosMatrix)"
   ]
  },
  {
   "cell_type": "code",
   "execution_count": 28,
   "id": "20214001",
   "metadata": {},
   "outputs": [
    {
     "name": "stdout",
     "output_type": "stream",
     "text": [
      "(2, 3)\n",
      "2\n",
      "6\n",
      "int64\n",
      "8\n"
     ]
    }
   ],
   "source": [
    "# Attributes of nd array\n",
    "\n",
    "arr = np.array([[1,2,3],[4,5,6]])\n",
    "\n",
    "print(arr.shape) #(2,3)\n",
    "print(arr.ndim)  #2\n",
    "print(arr.size)  # 2*3 = 6\n",
    "print(arr.dtype) # varies with system\n",
    "print(arr.itemsize) # varies with system"
   ]
  },
  {
   "cell_type": "code",
   "execution_count": null,
   "id": "2e894b4c",
   "metadata": {},
   "outputs": [
    {
     "name": "stdout",
     "output_type": "stream",
     "text": [
      "1\n",
      "[[1 2 3]\n",
      " [4 5 6]\n",
      " [7 8 9]]\n",
      "[2 3]\n",
      "[[5 6]\n",
      " [8 9]]\n",
      "[[7 8 9]]\n"
     ]
    }
   ],
   "source": [
    "arr = np.array([[1,2,3],[4,5,6],[7,8,9]])\n",
    "print(arr[0][0])\n",
    "print(arr)\n",
    "print(arr[0][1:])\n",
    "print(arr[1::,1::])\n",
    "print(arr[1:][1:])"
   ]
  },
  {
   "cell_type": "code",
   "execution_count": null,
   "id": "f499bff8",
   "metadata": {},
   "outputs": [
    {
     "name": "stdout",
     "output_type": "stream",
     "text": [
      "[[ 2  4]\n",
      " [12 14]]\n"
     ]
    }
   ],
   "source": [
    "arr = np.array([[1,2,3,4,5],[6,7,8,9,10],[11,12,13,14,15]])\n",
    "print(arr[0::2, 1::2])\n",
    "\n",
    "#syntax -> start:stop:step -> []\n",
    "# slicing happens for each [] arr[1:][1:] -> nexarr[1:] where newarr = arr[1:] -> ans = arr[2:]"
   ]
  },
  {
   "cell_type": "code",
   "execution_count": null,
   "id": "80422e78",
   "metadata": {},
   "outputs": [
    {
     "name": "stdout",
     "output_type": "stream",
     "text": [
      "[10  2  3]\n"
     ]
    }
   ],
   "source": [
    "# data manipulation -> possible\n",
    "arr = np.array([1,2,3])\n",
    "arr[0] = 10\n",
    "print(arr)"
   ]
  },
  {
   "cell_type": "code",
   "execution_count": 54,
   "id": "d9a0fb5b",
   "metadata": {},
   "outputs": [
    {
     "name": "stdout",
     "output_type": "stream",
     "text": [
      "Normalized data:  [-1.34164079 -0.4472136   0.4472136   1.34164079]\n"
     ]
    }
   ],
   "source": [
    "# statistical concepts\n",
    "\n",
    "data = np.array([1,2,3,4])\n",
    "mean = np.mean(data)\n",
    "std = np.std(data)\n",
    "normalized_data = (data-mean)/std\n",
    "print('Normalized data: ', normalized_data)"
   ]
  },
  {
   "cell_type": "code",
   "execution_count": 64,
   "id": "5142556e",
   "metadata": {},
   "outputs": [
    {
     "name": "stdout",
     "output_type": "stream",
     "text": [
      "[8 9]\n",
      "[ 4  5  6  7  8  9 10 11 12 13 14 15]\n",
      "6-7-8-9-"
     ]
    }
   ],
   "source": [
    "# logical operations\n",
    "\n",
    "data = np.array([1,2,3,4,5,6,7,8,9])\n",
    "print(data[data>7])\n",
    "\n",
    "data = np.array([[1,2,3,4,5],[6,7,8,9,10],[11,12,13,14,15]])\n",
    "print(data[data>3])\n",
    "for x in data[((data>5) & (data <10))]:\n",
    "    print(x,end='-')"
   ]
  }
 ],
 "metadata": {
  "kernelspec": {
   "display_name": "env",
   "language": "python",
   "name": "python3"
  },
  "language_info": {
   "codemirror_mode": {
    "name": "ipython",
    "version": 3
   },
   "file_extension": ".py",
   "mimetype": "text/x-python",
   "name": "python",
   "nbconvert_exporter": "python",
   "pygments_lexer": "ipython3",
   "version": "3.12.11"
  }
 },
 "nbformat": 4,
 "nbformat_minor": 5
}
