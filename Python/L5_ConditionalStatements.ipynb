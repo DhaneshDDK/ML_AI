{
 "cells": [
  {
   "cell_type": "code",
   "execution_count": 2,
   "id": "c2aae830",
   "metadata": {},
   "outputs": [
    {
     "name": "stdout",
     "output_type": "stream",
     "text": [
      "Hello, World!\n",
      "Hello, World!\n",
      "You entered 2\n",
      "Switch: You entered 2\n"
     ]
    }
   ],
   "source": [
    "if(True):\n",
    "    print(\"Hello, World!\")\n",
    "\n",
    "if(not False):\n",
    "    print(\"Hello, World!\")\n",
    "\n",
    "itr = input(\"Enter a number:\")\n",
    "if itr == \"1\":\n",
    "    print(\"You entered 1\")\n",
    "elif itr == \"2\":\n",
    "    print(\"You entered 2\")\n",
    "else:\n",
    "    print(\"You entered something else\")\n",
    "\n",
    "\n",
    "# Switch case using match-case (Python 3.10+)\n",
    "match itr:\n",
    "    case \"1\":\n",
    "        print(\"Switch: You entered 1\")\n",
    "    case \"2\":\n",
    "        print(\"Switch: You entered 2\")\n",
    "    case _:\n",
    "        print(\"Switch: You entered something else\")"
   ]
  },
  {
   "cell_type": "code",
   "execution_count": 4,
   "id": "3b5f624c",
   "metadata": {},
   "outputs": [
    {
     "name": "stdout",
     "output_type": "stream",
     "text": [
      "2\n"
     ]
    }
   ],
   "source": [
    "value = 1\n",
    "finalValue = value*2 if value <= 5 else value/2\n",
    "print(finalValue)"
   ]
  }
 ],
 "metadata": {
  "kernelspec": {
   "display_name": "env",
   "language": "python",
   "name": "python3"
  },
  "language_info": {
   "codemirror_mode": {
    "name": "ipython",
    "version": 3
   },
   "file_extension": ".py",
   "mimetype": "text/x-python",
   "name": "python",
   "nbconvert_exporter": "python",
   "pygments_lexer": "ipython3",
   "version": "3.12.11"
  }
 },
 "nbformat": 4,
 "nbformat_minor": 5
}
