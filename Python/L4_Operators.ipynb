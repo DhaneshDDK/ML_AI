{
 "cells": [
  {
   "cell_type": "code",
   "execution_count": 2,
   "id": "eb337a83",
   "metadata": {},
   "outputs": [
    {
     "name": "stdout",
     "output_type": "stream",
     "text": [
      "Addition:  13\n",
      "Subtraction:  7\n",
      "Multiplication:  30\n",
      "Division:  3.3333333333333335\n",
      "Floor Division:  3\n",
      "Modulus:  1\n",
      "Exponentiation:  1000\n"
     ]
    }
   ],
   "source": [
    "#Arithmetic operators + - * / % // **\n",
    "a = 10\n",
    "b = 3\n",
    "print(\"Addition: \",a + b)  # Addition\n",
    "print(\"Subtraction: \",a - b)  # Subtraction\n",
    "print(\"Multiplication: \",a * b)  # Multiplication\n",
    "print(\"Division: \",a / b)  # Division\n",
    "print(\"Floor Division: \",a // b)  # Floor Division\n",
    "print(\"Modulus: \",a % b)  # Modulus\n",
    "print(\"Exponentiation: \",a ** b)  # Exponentiation"
   ]
  },
  {
   "cell_type": "code",
   "execution_count": 5,
   "id": "1c908751",
   "metadata": {},
   "outputs": [
    {
     "name": "stdout",
     "output_type": "stream",
     "text": [
      "Equal:  False\n",
      "Not Equal:  True\n",
      "Greater than:  True\n",
      "Less than:  False\n",
      "Greater than or Equal:  True\n",
      "Less than or Equal:  False\n",
      "Names are equal:  False\n"
     ]
    }
   ],
   "source": [
    "# Comparison operators == != > < >= <=\n",
    "print(\"Equal: \",a == b)  # Equal\n",
    "print(\"Not Equal: \",a != b)  # Not Equal\n",
    "print(\"Greater than: \",a > b)  # Greater than\n",
    "print(\"Less than: \",a < b)  # Less than\n",
    "print(\"Greater than or Equal: \",a >= b)  # Greater than or Equal\n",
    "print(\"Less than or Equal: \",a <= b)  # Less than or Equal\n",
    "\n",
    "name1 = \"Dhanesh\"\n",
    "name2 = \"dhanesh\"\n",
    "print(\"Names are equal: \", name1 == name2)  # Case-sensitive comparison"
   ]
  },
  {
   "cell_type": "code",
   "execution_count": 9,
   "id": "cf4c09a2",
   "metadata": {},
   "outputs": [
    {
     "name": "stdout",
     "output_type": "stream",
     "text": [
      "x and y:  False\n",
      "x or y:  True\n",
      "not x:  False\n",
      "not y:  True\n",
      "False True True False\n"
     ]
    }
   ],
   "source": [
    "# Logical operators and, or, not\n",
    "x = True; y = False\n",
    "print(\"x and y: \", x and y) # Logical AND\n",
    "print(\"x or y: \", x or y)  # Logical OR\n",
    "print(\"not x: \", not x)  # Logical NOT\n",
    "print(\"not y: \", not y)  # Logical NOT\n",
    "\n",
    "print(True^True,True^False,False^True,False^False)  # XOR operation"
   ]
  }
 ],
 "metadata": {
  "kernelspec": {
   "display_name": "env",
   "language": "python",
   "name": "python3"
  },
  "language_info": {
   "codemirror_mode": {
    "name": "ipython",
    "version": 3
   },
   "file_extension": ".py",
   "mimetype": "text/x-python",
   "name": "python",
   "nbconvert_exporter": "python",
   "pygments_lexer": "ipython3",
   "version": "3.12.11"
  }
 },
 "nbformat": 4,
 "nbformat_minor": 5
}
