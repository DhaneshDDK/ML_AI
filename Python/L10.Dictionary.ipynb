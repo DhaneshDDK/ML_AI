{
 "cells": [
  {
   "cell_type": "code",
   "execution_count": null,
   "id": "1b1819f6",
   "metadata": {},
   "outputs": [
    {
     "name": "stdout",
     "output_type": "stream",
     "text": [
      "<class 'dict'>\n",
      "0 not found\n",
      "1 : 2\n",
      "2 : 3\n",
      "{1: 2, 2: 3, 3: 4, 'name': 'Dhanesh', 'age': 25, 'city': 'Bangalore'}\n",
      "None\n"
     ]
    }
   ],
   "source": [
    "#Dictionary key value pairs \n",
    "# keys are unique and immutable\n",
    "# values can be of any data type and can be duplicated\n",
    "\n",
    "my_dict = {}\n",
    "print(type(my_dict))\n",
    "\n",
    "my_dict = {1:2, 2:3, 3:4}\n",
    "for x in range(3):\n",
    "    if(x in my_dict):\n",
    "        print(x, \":\", my_dict[x])\n",
    "    else:\n",
    "        print(x, \"not found\")\n",
    "\n",
    "my_dict[\"name\"] = \"Dhanesh\"\n",
    "my_dict[\"age\"] = 25\n",
    "my_dict[\"city\"] = \"Bangalore\"\n",
    "print(my_dict)\n",
    "# print(my_dict[\"fakjg\"])\n",
    "print(my_dict.get(\"fakjg\"))\n"
   ]
  },
  {
   "cell_type": "code",
   "execution_count": 33,
   "id": "498a255f",
   "metadata": {},
   "outputs": [
    {
     "name": "stdout",
     "output_type": "stream",
     "text": [
      "<class 'dict'> {'Square of 0:': 0, 'Square of 1:': 1, 'Square of 2:': 4, 'Square of 3:': 9, 'Square of 4:': 16, 'Square of 5:': 25, 'Square of 6:': 36, 'Square of 7:': 49, 'Square of 8:': 64, 'Square of 9:': 81}\n"
     ]
    }
   ],
   "source": [
    "dic1 = {f\"Square of {i}:\": i**2 for i in range(10)}\n",
    "print(type(dic1), dic1)"
   ]
  },
  {
   "cell_type": "code",
   "execution_count": 27,
   "id": "3a2c9757",
   "metadata": {},
   "outputs": [
    {
     "name": "stdout",
     "output_type": "stream",
     "text": [
      "name : Dhanesh\n",
      "age : 25\n",
      "city : Bangalore\n",
      "\n",
      "name age city \n",
      "Dhanesh 25 Bangalore \n",
      "name : Dhanesh\n",
      "age : 25\n",
      "city : Bangalore\n"
     ]
    }
   ],
   "source": [
    "# Traversal\n",
    "my_dict = {\"name\": \"Dhanesh\", \"age\": 25, \"city\": \"Bangalore\"}\n",
    "for key in my_dict:\n",
    "    print(key, \":\", my_dict[key])\n",
    "print()\n",
    "\n",
    "for key in my_dict.keys():\n",
    "    print(key,end=\" \")\n",
    "print()\n",
    "\n",
    "for value in my_dict.values():\n",
    "    print(value,end=\" \")\n",
    "print()\n",
    "\n",
    "for key, value in my_dict.items():\n",
    "    print(key, \":\", value)\n"
   ]
  },
  {
   "cell_type": "code",
   "execution_count": 29,
   "id": "cf54b76f",
   "metadata": {},
   "outputs": [
    {
     "name": "stdout",
     "output_type": "stream",
     "text": [
      "student1\n",
      "  name : Dhanesh\n",
      "  age : 25\n",
      "  city : Bangalore\n",
      "\n",
      "student2\n",
      "  name : Alice\n",
      "  age : 23\n",
      "  city : New York\n",
      "\n",
      "student3\n",
      "  name : Bob\n",
      "  age : 22\n",
      "  city : San Francisco\n",
      "\n",
      "Dhanesh\n"
     ]
    }
   ],
   "source": [
    "# Nested dictionary\n",
    "students = {\n",
    "    \"student1\": {\"name\": \"Dhanesh\", \"age\": 25, \"city\": \"Bangalore\"},\n",
    "    \"student2\": {\"name\": \"Alice\", \"age\": 23, \"city\": \"New York\"},\n",
    "    \"student3\": {\"name\": \"Bob\", \"age\": 22, \"city\": \"San Francisco\"}\n",
    "}   \n",
    "\n",
    "for student,info in students.items():\n",
    "    print(student)\n",
    "    for key, value in info.items():\n",
    "        print(\" \", key, \":\", value)\n",
    "    print()\n",
    "\n",
    "print(students[\"student1\"][\"name\"])"
   ]
  },
  {
   "cell_type": "code",
   "execution_count": 24,
   "id": "1225e007",
   "metadata": {},
   "outputs": [
    {
     "name": "stdout",
     "output_type": "stream",
     "text": [
      "{'name': 'Dhanesh', 'age': 26, 'city': 'Bangalore'}\n",
      "{'name': 'Dhanesh', 'age': 27, 'city': 'Bangalore', 'email': 'abcdgmail'}\n",
      "{'name': 'Dhanesh', 'age': 28, 'city': 'Bangalore', 'email': 'xyz@gmail'}\n",
      "{'name': 'Dhanesh', 'age': 28, 'city': 'Bangalore'}\n",
      "name : Dhanesh\n",
      "age : 28\n",
      "city : Bangalore\n"
     ]
    }
   ],
   "source": [
    "my_dict = {\"name\": \"Dhanesh\", \"age\": 25, \"city\": \"Bangalore\", \"age\": 26}\n",
    "print(my_dict)\n",
    "my_dict['age'] = 27\n",
    "my_dict['email'] = \"abcdgmail\"\n",
    "print(my_dict)\n",
    "\n",
    "my_dict.update({'age': 28, 'email': 'xyz@gmail'})\n",
    "print(my_dict)\n",
    "\n",
    "my_dict.pop('email')\n",
    "print(my_dict)\n",
    "\n",
    "for keys in my_dict:\n",
    "    print(keys, \":\", my_dict[keys])"
   ]
  },
  {
   "cell_type": "code",
   "execution_count": 25,
   "id": "2f8cc4ab",
   "metadata": {},
   "outputs": [
    {
     "name": "stdout",
     "output_type": "stream",
     "text": [
      "{'a': 1, 'b': 2, 'c': 3, 'd': 4} {'a': 1, 'b': 2, 'c': 3, 'd': 4}\n",
      "{'a': 1, 'b': 2, 'c': 3, 'd': 4} {'a': 1, 'b': 2, 'c': 3, 'd': 4, 'e': 5}\n"
     ]
    }
   ],
   "source": [
    "# shallow copy\n",
    "d1 = {'a': 1, 'b': 2, 'c': 3}\n",
    "d2 = d1\n",
    "d2['d'] = 4\n",
    "print(d1, d2)  # both d1 and d2 will reflect the change\n",
    "\n",
    "# deep copy\n",
    "d3 = d1.copy()\n",
    "d3['e'] = 5\n",
    "print(d1, d3)  # d1 will not reflect the change"
   ]
  }
 ],
 "metadata": {
  "kernelspec": {
   "display_name": "env",
   "language": "python",
   "name": "python3"
  },
  "language_info": {
   "codemirror_mode": {
    "name": "ipython",
    "version": 3
   },
   "file_extension": ".py",
   "mimetype": "text/x-python",
   "name": "python",
   "nbconvert_exporter": "python",
   "pygments_lexer": "ipython3",
   "version": "3.12.11"
  }
 },
 "nbformat": 4,
 "nbformat_minor": 5
}
