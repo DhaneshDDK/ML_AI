{
 "cells": [
  {
   "cell_type": "code",
   "execution_count": null,
   "id": "c5d76665",
   "metadata": {},
   "outputs": [
    {
     "name": "stdout",
     "output_type": "stream",
     "text": [
      "Hello Dhanesh Kumar\n",
      "<class 'str'>\n"
     ]
    }
   ],
   "source": [
    "# Default input type is string\n",
    "name = input(\"What is your name\")\n",
    "print(\"Hello \" + name)\n",
    "print(type(name))"
   ]
  },
  {
   "cell_type": "code",
   "execution_count": 3,
   "id": "9711c463",
   "metadata": {},
   "outputs": [
    {
     "name": "stdout",
     "output_type": "stream",
     "text": [
      "Next year you will be 24\n"
     ]
    }
   ],
   "source": [
    "age = int(input(\"What is your age\"))\n",
    "print(\"Next year you will be \" + str(age + 1))"
   ]
  },
  {
   "cell_type": "code",
   "execution_count": 4,
   "id": "30be17f8",
   "metadata": {},
   "outputs": [
    {
     "name": "stdout",
     "output_type": "stream",
     "text": [
      "You are 167.5 centimeters tall\n"
     ]
    }
   ],
   "source": [
    "height = float(input(\"What is your height in meters\"))\n",
    "print(\"You are \" + str(height) + \" centimeters tall\")"
   ]
  },
  {
   "cell_type": "code",
   "execution_count": 5,
   "id": "4d540f96",
   "metadata": {},
   "outputs": [
    {
     "name": "stdout",
     "output_type": "stream",
     "text": [
      "Student status: True\n"
     ]
    }
   ],
   "source": [
    "is_student = input(\"Are you a student? (yes/no)\")  # Expecting 'yes' or 'no'\n",
    "is_student = True if is_student.lower() == 'yes' else False\n",
    "print(\"Student status: \" + str(is_student))"
   ]
  }
 ],
 "metadata": {
  "kernelspec": {
   "display_name": "env",
   "language": "python",
   "name": "python3"
  },
  "language_info": {
   "codemirror_mode": {
    "name": "ipython",
    "version": 3
   },
   "file_extension": ".py",
   "mimetype": "text/x-python",
   "name": "python",
   "nbconvert_exporter": "python",
   "pygments_lexer": "ipython3",
   "version": "3.12.11"
  }
 },
 "nbformat": 4,
 "nbformat_minor": 5
}
