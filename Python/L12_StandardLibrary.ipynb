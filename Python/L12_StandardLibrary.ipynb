{
 "cells": [
  {
   "cell_type": "code",
   "execution_count": 3,
   "id": "fc025f74",
   "metadata": {},
   "outputs": [
    {
     "name": "stdout",
     "output_type": "stream",
     "text": [
      "Array: array('i', [1, 2, 3, 4, 5])\n"
     ]
    }
   ],
   "source": [
    "# array\n",
    "\n",
    "from array import array\n",
    "arr = array('i', [1, 2, 3, 4, 5])\n",
    "print(\"Array:\", arr)"
   ]
  },
  {
   "cell_type": "code",
   "execution_count": 7,
   "id": "0b7688b6",
   "metadata": {},
   "outputs": [
    {
     "name": "stdout",
     "output_type": "stream",
     "text": [
      "Square root of 16 is: 4.0\n",
      "Value of Pi is: 3.141592653589793\n",
      "Value of e is: 2.718281828459045\n",
      "Logarithm of 1000 with base 10 is: 0.3010299956639812\n",
      "3.321928094887362\n"
     ]
    }
   ],
   "source": [
    "# math\n",
    "import math as Math\n",
    "print(\"Square root of 16 is:\", Math.sqrt(16))\n",
    "print(\"Value of Pi is:\", Math.pi)\n",
    "print(\"Value of e is:\", Math.e)\n",
    "print(\"Logarithm of 1000 with base 10 is:\", Math.log10(2))\n",
    "print(Math.log2(10))"
   ]
  },
  {
   "cell_type": "code",
   "execution_count": 16,
   "id": "8cfd9b3b",
   "metadata": {},
   "outputs": [
    {
     "name": "stdout",
     "output_type": "stream",
     "text": [
      "0.20578900075480255\n",
      "9\n",
      "banana\n"
     ]
    }
   ],
   "source": [
    "# Random\n",
    "from random import random as rand, randint, choice\n",
    "print(rand())\n",
    "print(randint(1,10))\n",
    "print(choice(['apple', 'banana', 'cherry']))"
   ]
  },
  {
   "cell_type": "code",
   "execution_count": 19,
   "id": "7423dd99",
   "metadata": {},
   "outputs": [
    {
     "name": "stdout",
     "output_type": "stream",
     "text": [
      "Current working directory: /Users/dhanesh/Documents/ML_AI/Python\n"
     ]
    }
   ],
   "source": [
    "# File and Directory Access\n",
    "import os\n",
    "print('Current working directory:', os.getcwd())\n",
    "os.mkdir('test_directory')\n",
    "os.rmdir('test_directory')"
   ]
  },
  {
   "cell_type": "code",
   "execution_count": null,
   "id": "cc671a5d",
   "metadata": {},
   "outputs": [],
   "source": [
    "# High level operations on files and collections of files\n",
    "# import shutil\n",
    "# shutil.copy('source.txt', 'destination.txt')\n",
    "# shutil.move('old_location.txt', 'new_location.txt')\n",
    "# shutil.rmtree('directory_to_remove')"
   ]
  },
  {
   "cell_type": "code",
   "execution_count": 23,
   "id": "a0d7eee4",
   "metadata": {},
   "outputs": [
    {
     "name": "stdout",
     "output_type": "stream",
     "text": [
      "<class 'str'> {\"name\": \"John\", \"age\": 30, \"city\": \"New York\"}\n",
      "<class 'dict'> {'name': 'John', 'age': 30, 'city': 'New York'}\n"
     ]
    }
   ],
   "source": [
    "# Data serialization\n",
    "json_data = {\"name\": \"John\", \"age\": 30, \"city\": \"New York\"}\n",
    "import json\n",
    "req_data = json.dumps(json_data) # convert dictionary (JSON object) to JSON string\n",
    "print(type(req_data), req_data)\n",
    "res_data = json.loads(req_data) # convert JSON string back to dictionary (JSON object)\n",
    "print(type(res_data), res_data)"
   ]
  },
  {
   "cell_type": "code",
   "execution_count": 25,
   "id": "a9807849",
   "metadata": {},
   "outputs": [
    {
     "name": "stdout",
     "output_type": "stream",
     "text": [
      "['Name', 'Age', 'City']\n",
      "['Alice', '28', 'New York']\n",
      "['Bob', '34', 'Los Angeles']\n"
     ]
    }
   ],
   "source": [
    "# csv\n",
    "import csv\n",
    "with open('data.csv', mode='w', newline='') as file:\n",
    "    writer = csv.writer(file)\n",
    "    writer.writerow(['Name', 'Age', 'City'])\n",
    "    writer.writerow(['Alice', 28, 'New York'])\n",
    "    writer.writerow(['Bob', 34, 'Los Angeles'])\n",
    "\n",
    "with open('data.csv', mode='r') as file:\n",
    "    reader = csv.reader(file)\n",
    "    for row in reader:\n",
    "        print(row)"
   ]
  },
  {
   "cell_type": "code",
   "execution_count": 29,
   "id": "c5344f76",
   "metadata": {},
   "outputs": [
    {
     "name": "stdout",
     "output_type": "stream",
     "text": [
      "Yesterday's date and time: 2025-09-27 13:06:58.584540\n",
      "Current date and time: 2025-09-28 13:06:58.584540\n"
     ]
    }
   ],
   "source": [
    "# data time\n",
    "import datetime as dt\n",
    "\n",
    "current_time = dt.datetime.now()\n",
    "yesterday_time = current_time - dt.timedelta(days=1)\n",
    "print(\"Yesterday's date and time:\", yesterday_time)\n",
    "print(\"Current date and time:\", current_time)"
   ]
  },
  {
   "cell_type": "code",
   "execution_count": 32,
   "id": "abc728b9",
   "metadata": {},
   "outputs": [
    {
     "name": "stdout",
     "output_type": "stream",
     "text": [
      "Current time in seconds since epoch: time.struct_time(tm_year=2025, tm_mon=9, tm_mday=28, tm_hour=13, tm_min=7, tm_sec=58, tm_wday=6, tm_yday=271, tm_isdst=0)\n",
      "Current local time: time.struct_time(tm_year=2025, tm_mon=9, tm_mday=28, tm_hour=13, tm_min=8, tm_sec=3, tm_wday=6, tm_yday=271, tm_isdst=0)\n"
     ]
    }
   ],
   "source": [
    "# time\n",
    "import time\n",
    "\n",
    "print(\"Current time in seconds since epoch:\", time.localtime())\n",
    "time.sleep(5)\n",
    "print(\"Current local time:\", time.localtime())"
   ]
  },
  {
   "cell_type": "code",
   "execution_count": 33,
   "id": "67ae513d",
   "metadata": {},
   "outputs": [
    {
     "name": "stdout",
     "output_type": "stream",
     "text": [
      "Matches found: ['foo', 'foo']\n"
     ]
    }
   ],
   "source": [
    "# regular expressions\n",
    "import re\n",
    "pattern = r'\\bfoo\\b'\n",
    "text = 'foo bar baz foo'\n",
    "matches = re.findall(pattern, text)\n",
    "print(\"Matches found:\", matches)"
   ]
  }
 ],
 "metadata": {
  "kernelspec": {
   "display_name": "env",
   "language": "python",
   "name": "python3"
  },
  "language_info": {
   "codemirror_mode": {
    "name": "ipython",
    "version": 3
   },
   "file_extension": ".py",
   "mimetype": "text/x-python",
   "name": "python",
   "nbconvert_exporter": "python",
   "pygments_lexer": "ipython3",
   "version": "3.12.11"
  }
 },
 "nbformat": 4,
 "nbformat_minor": 5
}
