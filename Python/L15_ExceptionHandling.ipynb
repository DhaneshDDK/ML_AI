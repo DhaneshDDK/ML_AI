{
 "cells": [
  {
   "cell_type": "code",
   "execution_count": 2,
   "id": "76414cc0",
   "metadata": {},
   "outputs": [
    {
     "name": "stdout",
     "output_type": "stream",
     "text": [
      "Error:  division by zero\n",
      "Execution completed\n"
     ]
    }
   ],
   "source": [
    "try:\n",
    "    result = 1/0\n",
    "    print(result)\n",
    "\n",
    "except Exception as ex:\n",
    "    print(\"Error: \",ex)\n",
    "\n",
    "else:\n",
    "    print(\"Successfully completed the execution\")\n",
    "\n",
    "finally:\n",
    "    print(\"Execution completed\")"
   ]
  },
  {
   "cell_type": "code",
   "execution_count": null,
   "id": "8d9da17d",
   "metadata": {},
   "outputs": [
    {
     "name": "stdout",
     "output_type": "stream",
     "text": [
      "Dhanesh kumar! Hi how are you!!\n",
      "Read the file successfully\n",
      "Execution completed\n"
     ]
    }
   ],
   "source": [
    "try:\n",
    "    file = open('data.csv','r')\n",
    "    content = file.read()\n",
    "    print(content)\n",
    "except Exception as ex:\n",
    "    print(\"Error: \",ex)\n",
    "else:\n",
    "    print(\"Read the file successfully\")\n",
    "finally:\n",
    "    print(\"Execution completed\")"
   ]
  }
 ],
 "metadata": {
  "kernelspec": {
   "display_name": "env",
   "language": "python",
   "name": "python3"
  },
  "language_info": {
   "codemirror_mode": {
    "name": "ipython",
    "version": 3
   },
   "file_extension": ".py",
   "mimetype": "text/x-python",
   "name": "python",
   "nbconvert_exporter": "python",
   "pygments_lexer": "ipython3",
   "version": "3.12.11"
  }
 },
 "nbformat": 4,
 "nbformat_minor": 5
}
