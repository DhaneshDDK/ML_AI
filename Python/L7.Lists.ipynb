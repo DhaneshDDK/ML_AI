{
 "cells": [
  {
   "cell_type": "code",
   "execution_count": 12,
   "id": "bf4985e6",
   "metadata": {},
   "outputs": [
    {
     "name": "stdout",
     "output_type": "stream",
     "text": [
      "[1, 2, 3, 4, 5]\n",
      "['a', 'b', 'c', 'd', 'e']\n",
      "[1, 'a', 2, 'b', 3, 'c']\n"
     ]
    }
   ],
   "source": [
    "# List are mutable, ordered collections of items.\n",
    "\n",
    "my_list1 = [1,2,3,4,5]; my_list2 = ['a','b','c','d','e']\n",
    "my_list3 = [1,'a',2,'b',3,'c']\n",
    "print(my_list1)\n",
    "print(my_list2)\n",
    "print(my_list3)"
   ]
  },
  {
   "cell_type": "code",
   "execution_count": 13,
   "id": "6ad029b9",
   "metadata": {},
   "outputs": [
    {
     "name": "stdout",
     "output_type": "stream",
     "text": [
      "[10, 20]\n"
     ]
    }
   ],
   "source": [
    "my_lst = list()\n",
    "my_lst.append(10)\n",
    "my_lst.insert(1,20)\n",
    "print(my_lst)"
   ]
  },
  {
   "cell_type": "code",
   "execution_count": 14,
   "id": "a6d26420",
   "metadata": {},
   "outputs": [
    {
     "name": "stdout",
     "output_type": "stream",
     "text": [
      "0dd number: 1 Even number: 2 0dd number: 3 Even number: 4 0dd number: 5 \n",
      "Odd number: 1 Even number: 2 Odd number: 3 Even number: 4 Odd number: 5 \n",
      "Odd number: 5 Even number: 4 Odd number: 3 Even number: 2 Odd number: 1 \n",
      "Odd number: 1 at index: 0\n",
      "Even number: 2 at index: 1\n",
      "Odd number: 3 at index: 2\n",
      "Even number: 4 at index: 3\n",
      "Odd number: 5 at index: 4\n"
     ]
    }
   ],
   "source": [
    "# Traversal\n",
    "\n",
    "#Method 1\n",
    "for x in my_list1:\n",
    "    if(x&1):\n",
    "        print(\"0dd number:\",x, end=' ')\n",
    "    else:\n",
    "        print(\"Even number:\",x, end=' ')\n",
    "print()\n",
    "\n",
    "#Method 2\n",
    "n = len(my_list1)\n",
    "for i in range(n):\n",
    "    if(not (my_list1[i]&1)):\n",
    "        print(\"Even number:\",my_list1[i], end=' ')\n",
    "    else:\n",
    "        print(\"Odd number:\",my_list1[i], end=' ')\n",
    "print()\n",
    "\n",
    "\n",
    "# Method 3\n",
    "for i in range(n-1,-1,-1):\n",
    "    if(my_list1[i]&1):\n",
    "        print(\"Odd number:\",my_list1[i], end=' ')\n",
    "    else:\n",
    "        print(\"Even number:\",my_list1[i], end=' ')\n",
    "print()\n",
    "\n",
    "\n",
    "# Method 4\n",
    "for index, value in enumerate(my_list1):\n",
    "    if(value&1):\n",
    "        print(\"Odd number:\",value, \"at index:\", index)\n",
    "    else:\n",
    "        print(\"Even number:\",value, \"at index:\", index)"
   ]
  },
  {
   "cell_type": "code",
   "execution_count": 15,
   "id": "0d3d7ef0",
   "metadata": {},
   "outputs": [
    {
     "name": "stdout",
     "output_type": "stream",
     "text": [
      "[1, 2, 3, 4, 5]\n",
      "[1, 3, 5]\n",
      "[2, 4]\n",
      "[5, 4, 3, 2, 1]\n",
      "[5, 4, 3, 2, 1]\n",
      "[4, 3, 2]\n"
     ]
    }
   ],
   "source": [
    "# substrings\n",
    "print(my_list1[0:n])         #(start, end-1, step)\n",
    "print(my_list1[0:n:2])\n",
    "print(my_list1[1:n:2])\n",
    "\n",
    "print(my_list1[::-1])\n",
    "print(my_list1[-1:-(n+1):-1])\n",
    "print(my_list1[-2:-(n+1)+1:-1])\n"
   ]
  },
  {
   "cell_type": "code",
   "execution_count": 18,
   "id": "ba0a70b8",
   "metadata": {},
   "outputs": [
    {
     "name": "stdout",
     "output_type": "stream",
     "text": [
      "[1, 2, 3, 4, 5]\n",
      "['Odd', 'Even', 'Odd', 'Even', 'Odd']\n",
      "[1, 'Hello world', 'e', 'Hello world', 'l', 'Hello world', ' ', 'Hello world', 'o', 'Hello world', 'l', 'Hello world']\n"
     ]
    }
   ],
   "source": [
    "# Modify list\n",
    "\n",
    "for x in my_list1:\n",
    "    if(x&1):\n",
    "        x = 5\n",
    "    else:\n",
    "        x = 0\n",
    "print(my_list1)\n",
    "\n",
    "mylist = [1,2,3,4,5]\n",
    "for i in range(n):\n",
    "    if(mylist[i]&1):\n",
    "        mylist[i] = \"Odd\"\n",
    "    else:\n",
    "        mylist[i] = \"Even\"\n",
    "print(mylist)\n",
    "\n",
    "list1 = [1,2,3,4,5]\n",
    "list1[1::] = 'Hello world'\n",
    "list1[1::2] = ['Hello world']*6\n",
    "print(list1)"
   ]
  },
  {
   "cell_type": "code",
   "execution_count": 2,
   "id": "5141dda0",
   "metadata": {},
   "outputs": [
    {
     "name": "stdout",
     "output_type": "stream",
     "text": [
      "[1, 2, 3, 4, 5, 6, 'Hello']\n",
      "[1, 'World', 2, 3, 4, 5, 6, 'Hello', 'World']\n",
      "[1, 'World', 2, 3, 4, 5, 6, 'Hello world', 'World']\n"
     ]
    }
   ],
   "source": [
    "# Append, Insert\n",
    "\n",
    "list2 = [1,2,3,4,5]\n",
    "\n",
    "list2.append(6)\n",
    "list2.append(\"Hello\")\n",
    "print(list2)\n",
    "\n",
    "list2.insert(1,\"World\")\n",
    "list2.insert(len(list2), \"World\")\n",
    "print(list2)\n",
    "list2[-2] = \"Hello world\"\n",
    "print(list2)\n"
   ]
  },
  {
   "cell_type": "code",
   "execution_count": 3,
   "id": "e1ab3daa",
   "metadata": {},
   "outputs": [
    {
     "name": "stdout",
     "output_type": "stream",
     "text": [
      "[1, 'World', 2, 3, 4, 5, 6, 'Hello world', 'World']\n",
      "[2, 3, 4, 5, 6, 'Hello world']\n",
      "Popped item: 5\n",
      "[1, 2, 3, 4]\n"
     ]
    }
   ],
   "source": [
    "# Remove\n",
    "print(list2)\n",
    "list2.remove(1)\n",
    "while \"World\" in list2:\n",
    "    list2.remove(\"World\")\n",
    "print(list2)\n",
    "\n",
    "#pop\n",
    "list_12 = [1,2,3,4,5]\n",
    "lastItem = list_12.pop()\n",
    "print(\"Popped item:\", lastItem)\n",
    "print(list_12)"
   ]
  },
  {
   "cell_type": "code",
   "execution_count": null,
   "id": "c000d323",
   "metadata": {},
   "outputs": [
    {
     "name": "stdout",
     "output_type": "stream",
     "text": [
      "[2, 3.2, 4.2, 5, 42.4, 532]\n",
      "[532, 42.4, 5, 4.2, 3.2, 2]\n",
      "[2, 3.2, 4.2, 5, 42.4, 532]\n",
      "[]\n"
     ]
    }
   ],
   "source": [
    "# sort, reverse, clear\n",
    "arr = [2,3.2,4.2,42.4,532,5]\n",
    "arr.sort()\n",
    "print(arr)\n",
    "arr.sort(reverse=True)\n",
    "print(arr)\n",
    "arr.reverse()\n",
    "print(arr)\n",
    "arr.clear()\n",
    "print(arr)"
   ]
  },
  {
   "cell_type": "code",
   "execution_count": null,
   "id": "0a9ac964",
   "metadata": {},
   "outputs": [
    {
     "name": "stdout",
     "output_type": "stream",
     "text": [
      "Index of 50 is: 4\n",
      "Index of 10 is: 0\n"
     ]
    }
   ],
   "source": [
    "# Finding index\n",
    "arr = [10,20,30,40,50,60,70,80,90]\n",
    "index_50 = arr.index(50)    \n",
    "print(\"Index of 50 is:\", index_50)\n",
    "index_10 = arr.index(10)\n",
    "print(\"Index of 10 is:\", index_10)\n",
    "\n",
    "arr1 = [1,2,3,4,5,1,2,3,4,5]\n",
    "first_index_3 = arr1.index(3)\n",
    "print(\"First index of 3 is:\", first_index_3)\n",
    "last_index_3 = arr1[::-1].index(3)\n",
    "print(\"Last index of 3 is:\", len(arr1)-1-last_index_3)"
   ]
  },
  {
   "cell_type": "code",
   "execution_count": 8,
   "id": "c1436688",
   "metadata": {},
   "outputs": [
    {
     "name": "stdout",
     "output_type": "stream",
     "text": [
      "Count of 3 is: 2\n",
      "Count of 10 is: 0\n",
      "Count of apple is: 2\n",
      "Count of apple is: 0\n"
     ]
    }
   ],
   "source": [
    "arr3 = [1,2,3,4,5,1,2,3,4,5]\n",
    "cnt_3 = arr3.count(3)\n",
    "cnt_10 = arr3.count(10)\n",
    "print(\"Count of 3 is:\", cnt_3)\n",
    "print(\"Count of 10 is:\", cnt_10)\n",
    "\n",
    "arr4 = [\"banana\", \"apple\", \"orange\", \"mango\", \"apple\"]\n",
    "print(\"Count of apple is:\", arr4.count(\"apple\"))\n",
    "print(\"Count of apple is:\", arr4.count(\"guava\"))"
   ]
  },
  {
   "cell_type": "code",
   "execution_count": 22,
   "id": "d48e411f",
   "metadata": {},
   "outputs": [
    {
     "name": "stdout",
     "output_type": "stream",
     "text": [
      "[0, 1, 4, 9, 16, 25, 36, 49, 64, 81]\n",
      "[1, 0, 3, 2, 0, 6, 3, 0, 9, 4, 0, 12]\n",
      "[[0, 0], [0, 1], [0, 2], [1, 0], [1, 1], [1, 2], [2, 0], [2, 1], [2, 2]]\n",
      "[4, 2, 1, 4, 2, 5]\n",
      "[4, 2, 1, 4, 2, 5]\n"
     ]
    }
   ],
   "source": [
    "squares = [x**2 for x in range(10)]\n",
    "print(squares)\n",
    "\n",
    "product = [x*y if (y&1) else 0 for x in range(1,5) for y in range(1,4)]\n",
    "print(product)\n",
    "\n",
    "paris = [[i,j] for i in range(3) for j in range(3)]\n",
    "print(paris)\n",
    "\n",
    "words = ['This', 'is', 'a', 'list', 'of', 'words']\n",
    "lengths = [len(word) for word in words]\n",
    "print(lengths)\n",
    "\n",
    "ls = []\n",
    "for word in words:\n",
    "    ls.append(len(word))\n",
    "print(ls)"
   ]
  },
  {
   "cell_type": "code",
   "execution_count": 25,
   "id": "1fca4021",
   "metadata": {},
   "outputs": [
    {
     "name": "stdout",
     "output_type": "stream",
     "text": [
      "[1, 2, 3, 4, 5, 6]\n"
     ]
    }
   ],
   "source": [
    "l1 = [1,2,3]\n",
    "l2 = [4,5,6]\n",
    "l3 = l1+l2\n",
    "print(l3)"
   ]
  },
  {
   "cell_type": "code",
   "execution_count": 26,
   "id": "efd3c3d4",
   "metadata": {},
   "outputs": [
    {
     "name": "stdout",
     "output_type": "stream",
     "text": [
      "First: 1\n",
      "Second: 2\n",
      "Rest: [3, 4, 5]\n"
     ]
    }
   ],
   "source": [
    "arr2 = [1,2,3,4,5]\n",
    "first, second, *rest = arr2\n",
    "print(\"First:\", first)\n",
    "print(\"Second:\", second)\n",
    "print(\"Rest:\", rest)"
   ]
  },
  {
   "cell_type": "code",
   "execution_count": null,
   "id": "bda58652",
   "metadata": {},
   "outputs": [
    {
     "name": "stdout",
     "output_type": "stream",
     "text": [
      "[1, 2, 3, 4, 5, 6] [1, 2, 3, 4, 5, 6]\n",
      "[1, 2, 3, 4, 5, 6] [1, 2, 3, 4, 5, 6, 7]\n"
     ]
    }
   ],
   "source": [
    "# copy - shallow copy\n",
    "l1 = [1,2,3,4,5]\n",
    "l2 = l1\n",
    "l2.append(6)\n",
    "print(l1, l2)  # both l1 and l2 will reflect the change\n",
    "\n",
    "# deep copy\n",
    "l3 = l1.copy()\n",
    "l3.append(7)\n",
    "print(l1, l3)  # l1 will not reflect the change"
   ]
  }
 ],
 "metadata": {
  "kernelspec": {
   "display_name": "env",
   "language": "python",
   "name": "python3"
  },
  "language_info": {
   "codemirror_mode": {
    "name": "ipython",
    "version": 3
   },
   "file_extension": ".py",
   "mimetype": "text/x-python",
   "name": "python",
   "nbconvert_exporter": "python",
   "pygments_lexer": "ipython3",
   "version": "3.12.11"
  }
 },
 "nbformat": 4,
 "nbformat_minor": 5
}
