{
 "cells": [
  {
   "cell_type": "code",
   "execution_count": 18,
   "id": "6b89c5f1",
   "metadata": {},
   "outputs": [
    {
     "name": "stdout",
     "output_type": "stream",
     "text": [
      "\n",
      "\n"
     ]
    }
   ],
   "source": [
    "# read methods\n",
    "import csv\n",
    "\n",
    "with open('data.csv', 'r') as file:\n",
    "    content = file.read()\n",
    "    print(content)\n",
    "\n",
    "with open('data.csv','r') as file:\n",
    "    reader = csv.reader(file)\n",
    "    for row in reader:\n",
    "        print(row)   \n",
    "print()\n",
    "\n",
    "with open('data.csv','r') as file:\n",
    "    for line in file:\n",
    "        print(line.strip())"
   ]
  },
  {
   "cell_type": "code",
   "execution_count": null,
   "id": "81d59ce6",
   "metadata": {},
   "outputs": [
    {
     "name": "stdout",
     "output_type": "stream",
     "text": [
      "\"Dhanesh\n",
      "\",age,isStudent\n",
      "\n",
      "\"Dhanesh\n",
      "\",age,isStudent\n",
      "Dhanesh, 24, true \n",
      "Ram 22 true\n",
      "\n",
      "\n",
      "\"Dhanesh\n",
      "\",age,isStudent\n",
      "Dhanesh, 24, true \n",
      "Ram 22 true\n",
      "first line \n",
      "second line \n",
      "third line \n",
      "\n"
     ]
    }
   ],
   "source": [
    "# write methods\n",
    "with open('data.csv', 'w') as file:\n",
    "    writer = csv.writer(file)\n",
    "    writer.writerow(['Dhanesh\\n', 'age', 'isStudent'])\n",
    "\n",
    "with open('data.csv', 'r') as file:\n",
    "    content = file.read()\n",
    "    print(content)\n",
    "\n",
    "with open('data.csv', 'a') as file:\n",
    "    file.write('Dhanesh, 24, true \\nRam 22 true\\n')\n",
    "\n",
    "with open('data.csv', 'r') as file:\n",
    "    print(file.read())\n",
    "\n",
    "lines = ['first line \\n', 'second line \\n', 'third line \\n']\n",
    "with open('data.csv','a') as file:\n",
    "    file.writelines(lines)\n",
    "print()\n",
    "with open('data.csv', 'r') as file:\n",
    "    print(file.read())"
   ]
  },
  {
   "cell_type": "code",
   "execution_count": null,
   "id": "91209251",
   "metadata": {},
   "outputs": [],
   "source": [
    "# write binary data. wb, rb\n",
    "with open('data.csv', 'rb') as file:\n",
    "    binary_content = file.read()\n",
    "    print(binary_content)"
   ]
  },
  {
   "cell_type": "code",
   "execution_count": 31,
   "id": "bf04a4ae",
   "metadata": {},
   "outputs": [
    {
     "name": "stdout",
     "output_type": "stream",
     "text": [
      "Dhanesh kumar! Hi how are you!!\n"
     ]
    }
   ],
   "source": [
    "# write and read\n",
    "with open('data.csv', 'w+') as file:\n",
    "    file.write('Dhanesh kumar! Hi how are you!!')\n",
    "    file.seek(0) # important keeps pointer to the start of written content\n",
    "    print(file.read())"
   ]
  }
 ],
 "metadata": {
  "kernelspec": {
   "display_name": "env",
   "language": "python",
   "name": "python3"
  },
  "language_info": {
   "codemirror_mode": {
    "name": "ipython",
    "version": 3
   },
   "file_extension": ".py",
   "mimetype": "text/x-python",
   "name": "python",
   "nbconvert_exporter": "python",
   "pygments_lexer": "ipython3",
   "version": "3.12.11"
  }
 },
 "nbformat": 4,
 "nbformat_minor": 5
}
