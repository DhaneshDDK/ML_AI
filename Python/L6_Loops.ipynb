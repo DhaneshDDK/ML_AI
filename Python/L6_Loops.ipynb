{
 "cells": [
  {
   "cell_type": "code",
   "execution_count": null,
   "id": "4acaa861",
   "metadata": {},
   "outputs": [
    {
     "name": "stdout",
     "output_type": "stream",
     "text": [
      "1 3 5 7 9 \n",
      "0 1 2 3 4 5 6 7 8 9 \n",
      "1 2 3 4 5 6 7 8 9 10 \n",
      "10 9 8 7 6 5 4 3 2 1 "
     ]
    }
   ],
   "source": [
    "# range(start, stop, step)\n",
    "# start, start+step, start+2*step, ..., stop-1\n",
    "\n",
    "# for loop\n",
    "for i in range(1, 10, 2):\n",
    "    print(i, end=\" \")\n",
    "print()\n",
    "for i in range(10):\n",
    "    print(i, end=\" \")\n",
    "print()\n",
    "for i in range(1, 11):\n",
    "    print(i, end=\" \")\n",
    "print()\n",
    "for i in range(10, 0, -1):\n",
    "    print(i, end=\" \")"
   ]
  },
  {
   "cell_type": "code",
   "execution_count": 4,
   "id": "05ccbaa3",
   "metadata": {},
   "outputs": [
    {
     "name": "stdout",
     "output_type": "stream",
     "text": [
      "0 1 2 3 4 5 6 7 8 9 \n"
     ]
    }
   ],
   "source": [
    "# while loop\n",
    "cnt = 0\n",
    "while cnt < 10:\n",
    "    print(cnt, end=\" \")\n",
    "    cnt += 1\n",
    "print()"
   ]
  },
  {
   "cell_type": "code",
   "execution_count": null,
   "id": "af120601",
   "metadata": {},
   "outputs": [
    {
     "name": "stdout",
     "output_type": "stream",
     "text": [
      "0 1 2 3 4 \n",
      "0 1 2 3 4 6 7 8 9 \n",
      "0 1 2 3 4 5 6 7 8 9 \n"
     ]
    }
   ],
   "source": [
    "# Loop control statements: break, continue, pass\n",
    "for i in range(10):\n",
    "    if i == 5:\n",
    "        break\n",
    "    print(i, end=\" \")\n",
    "print()\n",
    "\n",
    "for i in range(10):\n",
    "    if i == 5:\n",
    "        continue\n",
    "    print(i, end=\" \")\n",
    "print()\n",
    "\n",
    "# 'pass' is a no-operation statement, used as a placeholder\n",
    "for i in range(10):\n",
    "    if i == 5:\n",
    "        pass\n",
    "    print(i, end=\" \")\n",
    "print()"
   ]
  },
  {
   "cell_type": "code",
   "execution_count": 7,
   "id": "f99e44a3",
   "metadata": {},
   "outputs": [
    {
     "name": "stdout",
     "output_type": "stream",
     "text": [
      "i=0, j=0 | i=0, j=1 | i=0, j=2 | i=1, j=0 | i=1, j=1 | i=1, j=2 | i=2, j=0 | i=2, j=1 | i=2, j=2 | "
     ]
    }
   ],
   "source": [
    "# Nested loops\n",
    "\n",
    "for i in range(3):\n",
    "    for j in range(3):\n",
    "        print(f\"i={i}, j={j}\", end = \" | \")"
   ]
  },
  {
   "cell_type": "code",
   "execution_count": 8,
   "id": "9d988eb8",
   "metadata": {},
   "outputs": [
    {
     "name": "stdout",
     "output_type": "stream",
     "text": [
      "2 3 5 7 11 13 17 19 23 29 31 37 41 43 47 53 59 61 67 71 73 79 83 89 97 \n"
     ]
    }
   ],
   "source": [
    "# prime number between 1 to 100 using seived of eratosthenes\n",
    "\n",
    "n=100\n",
    "primes = [True]*(n+1)\n",
    "primes[0] = primes[1] = False\n",
    "for i in range(2, int(n**0.5+1)):\n",
    "    for j in range(i*i, n+1, i):\n",
    "        primes[j] = False\n",
    "for i in range(n+1):\n",
    "    if primes[i]:\n",
    "        print(i, end=\" \")\n",
    "print()"
   ]
  }
 ],
 "metadata": {
  "kernelspec": {
   "display_name": "env",
   "language": "python",
   "name": "python3"
  },
  "language_info": {
   "codemirror_mode": {
    "name": "ipython",
    "version": 3
   },
   "file_extension": ".py",
   "mimetype": "text/x-python",
   "name": "python",
   "nbconvert_exporter": "python",
   "pygments_lexer": "ipython3",
   "version": "3.12.11"
  }
 },
 "nbformat": 4,
 "nbformat_minor": 5
}
