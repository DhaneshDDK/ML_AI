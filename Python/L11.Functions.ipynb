{
 "cells": [
  {
   "cell_type": "code",
   "execution_count": 1,
   "id": "8a1aaded",
   "metadata": {},
   "outputs": [
    {
     "name": "stdout",
     "output_type": "stream",
     "text": [
      "5\n"
     ]
    }
   ],
   "source": [
    "def addFunction(a,b):\n",
    "    return a+b\n",
    "print(addFunction(2,3))"
   ]
  },
  {
   "cell_type": "code",
   "execution_count": 3,
   "id": "e8ecfe5c",
   "metadata": {},
   "outputs": [
    {
     "name": "stdout",
     "output_type": "stream",
     "text": [
      "55\n"
     ]
    }
   ],
   "source": [
    "def addFunction(*numbers):\n",
    "    total = 0\n",
    "    for num in numbers:\n",
    "        total+=num\n",
    "    return total\n",
    "print(addFunction(1,2,3,4,5,6,7,8,9,10))"
   ]
  },
  {
   "cell_type": "code",
   "execution_count": 11,
   "id": "4ed33040",
   "metadata": {},
   "outputs": [
    {
     "name": "stdout",
     "output_type": "stream",
     "text": [
      "355\n"
     ]
    }
   ],
   "source": [
    "def addFunction(*numbers, **kwargs):\n",
    "    total = 0\n",
    "    for num in numbers:\n",
    "        total += num\n",
    "    for value in kwargs.values():\n",
    "        if(isinstance(value,(int,float))):\n",
    "            total+=value\n",
    "    return total\n",
    "print(addFunction(1,2,3,4,5,6,7,8,9,10, a=100, b=200, c='Dhanesh'))"
   ]
  },
  {
   "cell_type": "code",
   "execution_count": 12,
   "id": "15ce41bf",
   "metadata": {},
   "outputs": [
    {
     "name": "stdout",
     "output_type": "stream",
     "text": [
      "1 2 3 4\n"
     ]
    }
   ],
   "source": [
    "def returnMultiplePair(a,b,c,d):\n",
    "    return a,b,c,d\n",
    "x,y,z,w = returnMultiplePair(1,2,3,4)\n",
    "print(x,y,z,w)\n"
   ]
  },
  {
   "cell_type": "code",
   "execution_count": 22,
   "id": "5750f1cb",
   "metadata": {},
   "outputs": [
    {
     "name": "stdout",
     "output_type": "stream",
     "text": [
      "5\n",
      "30\n"
     ]
    }
   ],
   "source": [
    "# lamda\n",
    "value = lambda a,b: a+b\n",
    "print(value(2,3))\n",
    "print(value(10,20))"
   ]
  },
  {
   "cell_type": "code",
   "execution_count": null,
   "id": "e1494f82",
   "metadata": {},
   "outputs": [
    {
     "name": "stdout",
     "output_type": "stream",
     "text": [
      "[1, 4, 9, 16, 25, 36, 49, 64, 81, 100]\n"
     ]
    }
   ],
   "source": [
    "# map\n",
    "numbers = [1,2,3,4,5,6,7,8,9,10]\n",
    "squared = list(map(lambda x : x**2 , numbers))\n",
    "print(squared)\n",
    "\n",
    "list1 = [1,2,3,4,5]\n",
    "list2 = [6,7,8,9,10]\n",
    "squaresSum = list(map(lambda x,y:x**2 + y**2 , list1, list2))\n",
    "print(squaresSum)"
   ]
  },
  {
   "cell_type": "code",
   "execution_count": null,
   "id": "999efe9a",
   "metadata": {},
   "outputs": [
    {
     "name": "stdout",
     "output_type": "stream",
     "text": [
      "[1, 2, 3, 4, 5]\n",
      "[101, 2, 3, 4, 5]\n",
      "['DHANESH', 'IS', 'A', 'GOOD']\n",
      "['Dhanesh', 'Ravi', 'Suresh']\n"
     ]
    }
   ],
   "source": [
    "# convert string values to int\n",
    "strList = ['1','2','3','4','5']\n",
    "intList = list(map(lambda x : int(x), strList))\n",
    "print(intList)\n",
    "intList[0] += 100\n",
    "print(intList)\n",
    "\n",
    "words = ['Dhanesh', 'is', 'a', 'good']\n",
    "upperCaseWords = list(map(lambda x : x.upper(), words))\n",
    "print(upperCaseWords)\n",
    "\n",
    "students = {\n",
    "   'student1' : {'name': 'Dhanesh', 'age': 25},\n",
    "   'student2' : {'name': 'Ravi', 'age': 24},\n",
    "   'student3' : {'name': 'Suresh', 'age': 26}\n",
    "}\n",
    "\n",
    "def fetchStudentNames(student):\n",
    "    return student['name']\n",
    "\n",
    "people = list(map(fetchStudentNames, students.values()))\n",
    "print(people)\n"
   ]
  },
  {
   "cell_type": "code",
   "execution_count": 35,
   "id": "0ef647e2",
   "metadata": {},
   "outputs": [
    {
     "name": "stdout",
     "output_type": "stream",
     "text": [
      "[1, 3, 5, 7, 9]\n",
      "[2, 4, 6, 8, 10]\n"
     ]
    }
   ],
   "source": [
    "# Filter\n",
    "numbers = [1,2,3,4,5,6,7,8,9,10]\n",
    "evenNumbers = list(filter(lambda x: not (x&1),numbers))\n",
    "oddNumbers = list(filter(lambda x: (x&1), numbers))\n",
    "print(oddNumbers)\n",
    "print(evenNumbers)"
   ]
  }
 ],
 "metadata": {
  "kernelspec": {
   "display_name": "env",
   "language": "python",
   "name": "python3"
  },
  "language_info": {
   "codemirror_mode": {
    "name": "ipython",
    "version": 3
   },
   "file_extension": ".py",
   "mimetype": "text/x-python",
   "name": "python",
   "nbconvert_exporter": "python",
   "pygments_lexer": "ipython3",
   "version": "3.12.11"
  }
 },
 "nbformat": 4,
 "nbformat_minor": 5
}
