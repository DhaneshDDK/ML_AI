{
 "cells": [
  {
   "cell_type": "code",
   "execution_count": null,
   "id": "9fbc8d94",
   "metadata": {},
   "outputs": [],
   "source": [
    "''' \n",
    "Decorators are a powerful flexible feature in Python that allows you to modify the behavior of a function or class method.\n",
    "They are commonly used to add functionality and functions or methods without modifying their actual code. \n",
    "'''\n",
    "\n",
    "# function copy\n",
    "# closures\n",
    "# decorators"
   ]
  },
  {
   "cell_type": "code",
   "execution_count": null,
   "id": "bcaa0ac5",
   "metadata": {},
   "outputs": [
    {
     "name": "stdout",
     "output_type": "stream",
     "text": [
      "<function Welcome at 0x10daf1e40>\n",
      "Welcome to this course\n",
      "<function Welcome at 0x10daf1e40>\n",
      "Welcome to this course\n",
      "Welcome to this course\n"
     ]
    }
   ],
   "source": [
    "# function copy --> deep copy\n",
    "\n",
    "def Welcome():\n",
    "    print(\"Welcome to this course\")\n",
    "\n",
    "wel = Welcome\n",
    "print(Welcome)\n",
    "Welcome()\n",
    "print(wel)\n",
    "wel()\n",
    "\n",
    "# deep copy\n",
    "# del wel\n",
    "# Welcome()\n",
    "\n",
    "del Welcome\n",
    "wel()"
   ]
  },
  {
   "cell_type": "code",
   "execution_count": 25,
   "id": "95c29354",
   "metadata": {},
   "outputs": [
    {
     "name": "stdout",
     "output_type": "stream",
     "text": [
      "Done processing...\n",
      "Response\n"
     ]
    }
   ],
   "source": [
    "# closures\n",
    "msg = 'Done processing...'\n",
    "def submit(func):\n",
    "    # do something\n",
    "    print(msg)\n",
    "    data = \"Response\"\n",
    "    return func(data)\n",
    "\n",
    "def response(data):\n",
    "    print(data)\n",
    "\n",
    "submit(response)"
   ]
  },
  {
   "cell_type": "code",
   "execution_count": null,
   "id": "80896e5e",
   "metadata": {},
   "outputs": [
    {
     "name": "stdout",
     "output_type": "stream",
     "text": [
      "Hello from main window\n",
      "Hello from subwindow1- 2\n",
      "\n",
      "Hello from main window\n",
      "Hello from subwindow1- 2\n",
      "\n",
      "Hello from main window\n",
      "Hello from subwindow1- 4\n"
     ]
    }
   ],
   "source": [
    "msg = 2\n",
    "def main_window(func):\n",
    "    print(\"Hello from main window\")\n",
    "    def sub_window1():\n",
    "        print(f\"Hello from subwindow1- {func(msg)}\")\n",
    "    return sub_window1\n",
    "\n",
    "main_window(lambda x: msg)()\n",
    "print()\n",
    "@main_window ## msg -> func -> msg()\n",
    "def greet(msg):\n",
    "    return msg\n",
    "greet()\n",
    "print()\n",
    "main_window(lambda x : x**2)()"
   ]
  },
  {
   "cell_type": "code",
   "execution_count": null,
   "id": "1f583e6e",
   "metadata": {},
   "outputs": [],
   "source": []
  }
 ],
 "metadata": {
  "kernelspec": {
   "display_name": "env",
   "language": "python",
   "name": "python3"
  },
  "language_info": {
   "codemirror_mode": {
    "name": "ipython",
    "version": 3
   },
   "file_extension": ".py",
   "mimetype": "text/x-python",
   "name": "python",
   "nbconvert_exporter": "python",
   "pygments_lexer": "ipython3",
   "version": "3.12.11"
  }
 },
 "nbformat": 4,
 "nbformat_minor": 5
}
