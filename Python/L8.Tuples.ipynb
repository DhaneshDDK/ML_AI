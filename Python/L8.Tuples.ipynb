{
 "cells": [
  {
   "cell_type": "code",
   "execution_count": null,
   "id": "f2b492de",
   "metadata": {},
   "outputs": [
    {
     "name": "stdout",
     "output_type": "stream",
     "text": [
      "<class 'tuple'>\n",
      "(1, 'Hello', 3.4)\n"
     ]
    }
   ],
   "source": [
    "# Tuples are immutable lists\n",
    "# Tuples are defined using parentheses ()\n",
    "# Tuples can contain mixed data types   \n",
    "\n",
    "my_tuple = ()\n",
    "print(type(my_tuple))\n",
    "\n",
    "mixed_tuple = (1, \"Hello\", 3.4)\n",
    "print(mixed_tuple)"
   ]
  },
  {
   "cell_type": "code",
   "execution_count": 12,
   "id": "b665d9d7",
   "metadata": {},
   "outputs": [
    {
     "name": "stdout",
     "output_type": "stream",
     "text": [
      "<class 'tuple'>\n",
      "<class 'list'>\n",
      "(1, 2, 3, 4, 5)\n",
      "<class 'tuple'>\n",
      "(1, 2, 3, 4, 5)\n",
      "<class 'list'>\n",
      "[1, 2, 3, 4, 5, 6]\n"
     ]
    }
   ],
   "source": [
    "my_tuple1 = (1,2,3,4,5)\n",
    "print(type(my_tuple1))\n",
    "\n",
    "my_list1 = [1,2,3,4,5]\n",
    "print(type(my_list1))\n",
    "\n",
    "tuple1 = tuple(my_list1)\n",
    "print(tuple1)\n",
    "tuple1.__add__((6,7,8))\n",
    "print(type(tuple1))\n",
    "print(tuple1)\n",
    "\n",
    "list2 = list(my_tuple1)\n",
    "print(type(list2))\n",
    "list2.append(6)\n",
    "print(list2)"
   ]
  },
  {
   "cell_type": "code",
   "execution_count": 18,
   "id": "bdac6d9e",
   "metadata": {},
   "outputs": [
    {
     "name": "stdout",
     "output_type": "stream",
     "text": [
      "10 20 30 40 50 \n",
      "Even number: 10 Even number: 20 Even number: 30 Even number: 40 Even number: 50 \n",
      "(10, 30, 50)\n",
      "(50, 40, 30, 20, 10)\n",
      "(20, 30)\n"
     ]
    }
   ],
   "source": [
    "# Traversal\n",
    "arr = (10,20,30,40,50)\n",
    "for x in arr:\n",
    "    print(x, end=' ')\n",
    "print()\n",
    "\n",
    "for i in range(len(arr)):\n",
    "    if(arr[i]&1):\n",
    "        print(\"Odd number:\",arr[i], end=' ')\n",
    "    else:\n",
    "        print(\"Even number:\",arr[i], end=' ')\n",
    "print()\n",
    "\n",
    "print(arr[::2])\n",
    "print(arr[::-1])\n",
    "print(arr[1:3:1])"
   ]
  },
  {
   "cell_type": "code",
   "execution_count": 21,
   "id": "385895d0",
   "metadata": {},
   "outputs": [
    {
     "name": "stdout",
     "output_type": "stream",
     "text": [
      "(1, 2, 3, 4, 5, 6)\n",
      "(1, 2, 3, 4, 5, 6, 1, 2, 3, 4, 5, 6, 1, 2, 3, 4, 5, 6)\n"
     ]
    }
   ],
   "source": [
    "t1 = (1,2,3)\n",
    "t2 = (4,5,6)\n",
    "t3 = t1 + t2\n",
    "print(t3)\n",
    "print(t3*3)"
   ]
  },
  {
   "cell_type": "code",
   "execution_count": 27,
   "id": "812d4604",
   "metadata": {},
   "outputs": [
    {
     "name": "stdout",
     "output_type": "stream",
     "text": [
      "Index of 50 is: -1\n",
      "2\n"
     ]
    }
   ],
   "source": [
    "arr = (12,4,2,4,3,2,54,25)\n",
    "# arr.sort()\n",
    "# print(arr). // since tuples are immutable, we cannot sort them\n",
    "# arr.reverse()\n",
    "# print(arr) // since tuples are immutable, we cannot reverse them\n",
    "index_50 = arr.index(50) if 50 in arr else -1\n",
    "print(\"Index of 50 is:\", index_50)\n",
    "print(arr.count(2))"
   ]
  },
  {
   "cell_type": "code",
   "execution_count": 29,
   "id": "2e99e214",
   "metadata": {},
   "outputs": [
    {
     "name": "stdout",
     "output_type": "stream",
     "text": [
      "First element: 10\n",
      "Second element: 20\n",
      "Third element: 30\n",
      "Fourth element: 40\n",
      "Fifth element: 50\n",
      "First element: 10\n",
      "Middle elements: [20, 30, 40]\n",
      "Last element: 50\n"
     ]
    }
   ],
   "source": [
    "# accessing tuple elements\n",
    "\n",
    "arr1 = (10,20,30,40,50)\n",
    "first, second, third, fourth, fifth = arr1\n",
    "print(\"First element:\", first)\n",
    "print(\"Second element:\", second)        \n",
    "print(\"Third element:\", third)\n",
    "print(\"Fourth element:\", fourth)\n",
    "print(\"Fifth element:\", fifth)\n",
    "\n",
    "first, *middle, last = arr1\n",
    "print(\"First element:\", first)\n",
    "print(\"Middle elements:\", middle)\n",
    "print(\"Last element:\", last)"
   ]
  },
  {
   "cell_type": "code",
   "execution_count": 33,
   "id": "2e72ae55",
   "metadata": {},
   "outputs": [
    {
     "name": "stdout",
     "output_type": "stream",
     "text": [
      "((1, 2, 3), (4, 5, 6), (7, 8, 9))\n",
      "(1, 2, 3)\n",
      "1 2 3 \n",
      "(4, 5, 6)\n",
      "4 5 6 \n",
      "(7, 8, 9)\n",
      "7 8 9 \n",
      "1 2 3 \n",
      "4 5 6 \n",
      "7 8 9 \n"
     ]
    }
   ],
   "source": [
    "# nested tuples\n",
    "nested_tuple = ((1,2,3), (4,5,6), (7,8,9))\n",
    "print(nested_tuple)\n",
    "for t in nested_tuple:\n",
    "    print(t)\n",
    "    for x in t:\n",
    "        print(x, end=' ')\n",
    "    print()\n",
    "\n",
    "for i in range(len(nested_tuple)):\n",
    "    for j in range(len(nested_tuple[i])):\n",
    "        # nested_tuple[i][j] = 0 // tuples are immutable, we cannot change the values\n",
    "        print(nested_tuple[i][j], end=' ')\n",
    "    print()\n"
   ]
  },
  {
   "cell_type": "code",
   "execution_count": 36,
   "id": "2e55e069",
   "metadata": {},
   "outputs": [
    {
     "name": "stdout",
     "output_type": "stream",
     "text": [
      "(1, 2, 3, 4, 5) (1, 2, 3, 4, 5, 6)\n"
     ]
    }
   ],
   "source": [
    "# copy - deep copy\n",
    "t1 = (1,2,3,4,5)\n",
    "t2 = t1\n",
    "t2 += (6,)\n",
    "print(t1, t2)  # t1 will not reflect the change\n",
    "\n",
    "# t3 = t1.copy()\n",
    "# t3 += (7,)\n",
    "# print(t1, t3) #error"
   ]
  }
 ],
 "metadata": {
  "kernelspec": {
   "display_name": "env",
   "language": "python",
   "name": "python3"
  },
  "language_info": {
   "codemirror_mode": {
    "name": "ipython",
    "version": 3
   },
   "file_extension": ".py",
   "mimetype": "text/x-python",
   "name": "python",
   "nbconvert_exporter": "python",
   "pygments_lexer": "ipython3",
   "version": "3.12.11"
  }
 },
 "nbformat": 4,
 "nbformat_minor": 5
}
