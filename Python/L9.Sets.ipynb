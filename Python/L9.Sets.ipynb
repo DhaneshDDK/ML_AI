{
 "cells": [
  {
   "cell_type": "code",
   "execution_count": 9,
   "id": "8df7608b",
   "metadata": {},
   "outputs": [
    {
     "name": "stdout",
     "output_type": "stream",
     "text": [
      "{1, 2, 3, 4, 5}\n",
      "<class 'set'>\n"
     ]
    }
   ],
   "source": [
    "# Set stores only unique elements\n",
    "# Set is unordered collection of elements\n",
    "my_set = {1,2,3,4,5,1,2,3}\n",
    "print(my_set)\n",
    "print(type(my_set))"
   ]
  },
  {
   "cell_type": "code",
   "execution_count": 10,
   "id": "b5818cb9",
   "metadata": {},
   "outputs": [
    {
     "name": "stdout",
     "output_type": "stream",
     "text": [
      "{1, 2, 3}\n",
      "<class 'set'>\n",
      "{1, 3}\n"
     ]
    }
   ],
   "source": [
    "s1 = set()\n",
    "s1.add(1)\n",
    "s1.add(2)\n",
    "s1.add(3)\n",
    "s1.add(1)\n",
    "print(s1)\n",
    "print(type(s1))\n",
    "\n",
    "s1.remove(2)\n",
    "print(s1)"
   ]
  },
  {
   "cell_type": "code",
   "execution_count": 11,
   "id": "4ebcc7f7",
   "metadata": {},
   "outputs": [
    {
     "name": "stdout",
     "output_type": "stream",
     "text": [
      "1\n",
      "3\n",
      "First element: 1\n",
      "{3}\n",
      "set()\n"
     ]
    }
   ],
   "source": [
    "for x in s1:\n",
    "    print(x)\n",
    "\n",
    "first_ele = s1.pop()\n",
    "print(\"First element:\", first_ele)\n",
    "print(s1)\n",
    "\n",
    "s1.clear()\n",
    "print(s1)"
   ]
  },
  {
   "cell_type": "code",
   "execution_count": 32,
   "id": "dbbfa26c",
   "metadata": {},
   "outputs": [
    {
     "name": "stdout",
     "output_type": "stream",
     "text": [
      "Union: {1, 2, 3, 4, 5, 6, 7, 8} {1, 2, 3, 4, 5, 6, 7, 8}\n",
      "Intersection: {4, 5} {4, 5}\n",
      "Difference (s1 - s2): {1, 2, 3} {1, 2, 3}\n",
      "Difference (s2 - s1): {8, 6, 7} {8, 6, 7}\n",
      "Symmetric Difference: {1, 2, 3, 6, 7, 8} {1, 2, 3, 6, 7, 8}\n",
      "s1 after intersection_update with s2: {4, 5}\n",
      "s1 after difference_update with s2: set()\n",
      "True\n",
      "True\n"
     ]
    }
   ],
   "source": [
    "s1 = {1,2,3,4,5}\n",
    "s2 = {4,5,6,7,8}\n",
    "print(\"Union:\", s1 | s2, s1.union(s2))\n",
    "print(\"Intersection:\", s1 & s2, s1.intersection(s2))\n",
    "print(\"Difference (s1 - s2):\", s1 - s2, s1.difference(s2))\n",
    "print(\"Difference (s2 - s1):\", s2 - s1, s2.difference(s1))\n",
    "print(\"Symmetric Difference:\", s1 ^ s2, s1.symmetric_difference(s2))\n",
    "\n",
    "s1.intersection_update(s2)\n",
    "print(\"s1 after intersection_update with s2:\", s1)\n",
    "s1.difference_update(s2)\n",
    "print(\"s1 after difference_update with s2:\", s1)\n",
    "\n",
    "s1 = {1,2,3,4,5,6,7,8,9}\n",
    "s2 = {1,2,3}\n",
    "print(s2.issubset(s1))\n",
    "print(s1.issuperset(s2))"
   ]
  },
  {
   "cell_type": "code",
   "execution_count": 29,
   "id": "a0b37cac",
   "metadata": {},
   "outputs": [
    {
     "name": "stdout",
     "output_type": "stream",
     "text": [
      "{2, 3, 4, 5}\n",
      "{2, 3, 4, 5}\n",
      "{2, 4, 5}\n"
     ]
    }
   ],
   "source": [
    "s1 = {1,2,3,4,5}\n",
    "s1.remove(1) if 1 in s1 else None\n",
    "print(s1)\n",
    "\n",
    "s1.discard(10)  # No error if 10 not in set\n",
    "print(s1)\n",
    "s1.discard(3)\n",
    "print(s1)"
   ]
  },
  {
   "cell_type": "code",
   "execution_count": 34,
   "id": "7e6a4af1",
   "metadata": {},
   "outputs": [
    {
     "name": "stdout",
     "output_type": "stream",
     "text": [
      "Unique words: 11\n"
     ]
    }
   ],
   "source": [
    "text = \"This is a sample text with several words. This text is for testing sets.\"\n",
    "words = text.split(' ')\n",
    "unique_words = set(words)\n",
    "print(\"Unique words:\", len(unique_words))"
   ]
  },
  {
   "cell_type": "code",
   "execution_count": 37,
   "id": "849724e5",
   "metadata": {},
   "outputs": [
    {
     "name": "stdout",
     "output_type": "stream",
     "text": [
      "{1, 2, 3, 4, 5, 6} {1, 2, 3, 4, 5, 6}\n",
      "{1, 2, 3, 4, 5, 6} {1, 2, 3, 4, 5, 6, 7}\n"
     ]
    }
   ],
   "source": [
    "# shallow copy\n",
    "s1 = set([1,2,3,4,5])\n",
    "s2 = s1\n",
    "s2.add(6)\n",
    "print(s1, s2)  # both s1 and s2 will reflect the change\n",
    "\n",
    "# deep copy\n",
    "s3 = s1.copy()\n",
    "s3.add(7)\n",
    "print(s1, s3)  # s1 will not reflect the change"
   ]
  }
 ],
 "metadata": {
  "kernelspec": {
   "display_name": "env",
   "language": "python",
   "name": "python3"
  },
  "language_info": {
   "codemirror_mode": {
    "name": "ipython",
    "version": 3
   },
   "file_extension": ".py",
   "mimetype": "text/x-python",
   "name": "python",
   "nbconvert_exporter": "python",
   "pygments_lexer": "ipython3",
   "version": "3.12.11"
  }
 },
 "nbformat": 4,
 "nbformat_minor": 5
}
