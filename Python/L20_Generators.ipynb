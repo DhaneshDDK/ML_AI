{
 "cells": [
  {
   "cell_type": "code",
   "execution_count": 2,
   "id": "acc9d6a1",
   "metadata": {},
   "outputs": [
    {
     "name": "stdout",
     "output_type": "stream",
     "text": [
      "0 1 4 9 16 \n",
      "[0, 1, 4, 9, 16]\n"
     ]
    }
   ],
   "source": [
    "# Generators are a simpler way to create iterators. They use the yeild keyword to produce a series of values lazily,\n",
    "# which means they generate values on the fly and do not store them in memory\n",
    "\n",
    "def findSquares(n):\n",
    "    for i in range(n):\n",
    "        yield i**2\n",
    "\n",
    "def findSquares1(n):\n",
    "    squares = []\n",
    "    for i in range(n):\n",
    "        squares.append(i**2)\n",
    "    return squares\n",
    "\n",
    "itr = findSquares(5)\n",
    "for x in itr:\n",
    "    print(x,end=' ')\n",
    "print()\n",
    "print(findSquares1(5))"
   ]
  },
  {
   "cell_type": "code",
   "execution_count": null,
   "id": "0e8c04b9",
   "metadata": {},
   "outputs": [
    {
     "name": "stdout",
     "output_type": "stream",
     "text": [
      "1. Once upon a time, in a quiet village nestled between mountains,\n",
      "2. there lived a boy named Lior.\n",
      "3. He was known for his curiosity and kindness.\n",
      "4. Every morning, he would help his grandmother fetch water.\n",
      "5. The village had only one well, old and moss-covered.\n",
      "6. Birds would sing as the sun rose behind the hills.\n",
      "7. Lior often paused to listen to them.\n",
      "8. He imagined they were telling stories of faraway lands.\n",
      "9. After chores, he would run to the edge of the forest.\n",
      "10. There stood an ancient tree with a hollow trunk.\n",
      "11. It was his secret place.\n",
      "12. Inside, he kept little treasures: stones, feathers, and drawings.\n",
      "13. One day, he found a shimmering leaf near the hollow.\n",
      "14. It glowed faintly, like moonlight.\n",
      "15. Curious, he picked it up.\n",
      "16. Instantly, he felt warmth in his fingers.\n",
      "17. He tucked it into his pocket and ran home.\n",
      "18. That night, dreams filled his sleep.\n",
      "19. Dreams of floating islands and talking animals.\n",
      "20. A fox with golden eyes spoke to him.\n",
      "21. “The leaf chose you,” it said.\n",
      "22. Lior woke up startled.\n",
      "23. The leaf was glowing again.\n",
      "24. He tiptoed outside under the stars.\n",
      "25. As he held the leaf, wind swirled around him.\n",
      "26. Leaves danced in circles at his feet.\n",
      "27. A soft hum filled the air.\n",
      "28. Suddenly, he was no longer in his village.\n",
      "29. He stood in a meadow under a sky full of colors.\n",
      "30. Flowers blinked like fireflies.\n",
      "31. “Where am I?” he whispered.\n",
      "32. A rabbit in a vest hopped over.\n",
      "33. “You’ve crossed into the Whispering Realm,” it said.\n",
      "34. Lior blinked in amazement.\n",
      "35. “I didn’t mean to.”\n",
      "36. “The leaf knows. It opens doors only for the worthy.”\n",
      "37. The rabbit led him to a lake with silver water.\n",
      "38. Reflections danced across its surface.\n",
      "39. “This place is beautiful,” Lior said.\n",
      "40. “It reflects your heart,” replied the rabbit.\n",
      "41. Days passed, or maybe minutes—time flowed oddly there.\n",
      "42. He met many creatures: owls who painted the sky,\n",
      "43. turtles who told stories through dance,\n",
      "44. and cats who read thoughts.\n",
      "45. Each shared wisdom and laughter.\n",
      "46. Lior felt more alive than ever.\n",
      "47. But he missed his grandmother.\n",
      "48. “How do I return?” he asked.\n",
      "49. “Follow the path of memories,” said the fox.\n",
      "50. The leaf pulsed warmly in his pocket again.\n",
      "51. He closed his eyes and thought of home.\n",
      "52. Of fresh bread and warm smiles.\n",
      "53. The wind returned, swirling faster this time.\n",
      "54. When he opened his eyes, he was back.\n",
      "55. Standing near the well at sunrise.\n",
      "56. The leaf crumbled to dust in his hand.\n",
      "57. But the warmth remained in his heart.\n",
      "58. He smiled quietly and walked home.\n",
      "59. Days felt different now.\n",
      "60. He listened more closely.\n",
      "61. Watched more carefully.\n",
      "62. He told no one of the Whisperin\n"
     ]
    }
   ],
   "source": [
    "## reading large files lazily\n",
    "\n",
    "def readFile(filePath):\n",
    "    with open(filePath,'r') as file:\n",
    "        for line in file:\n",
    "            yield line\n",
    "\n",
    "# data = readFile('data.csv')\n",
    "# for line in data:\n",
    "#     print(line.strip())\n",
    "\n",
    "# best way\n",
    "for line in readFile('data.csv'):\n",
    "    print(line.strip())\n"
   ]
  }
 ],
 "metadata": {
  "kernelspec": {
   "display_name": "env",
   "language": "python",
   "name": "python3"
  },
  "language_info": {
   "codemirror_mode": {
    "name": "ipython",
    "version": 3
   },
   "file_extension": ".py",
   "mimetype": "text/x-python",
   "name": "python",
   "nbconvert_exporter": "python",
   "pygments_lexer": "ipython3",
   "version": "3.12.11"
  }
 },
 "nbformat": 4,
 "nbformat_minor": 5
}
