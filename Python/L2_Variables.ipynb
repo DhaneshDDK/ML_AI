{
 "cells": [
  {
   "cell_type": "code",
   "execution_count": 19,
   "id": "05bde9fe",
   "metadata": {},
   "outputs": [
    {
     "name": "stdout",
     "output_type": "stream",
     "text": [
      "Dhanesh Kumar 25 True 5.9\n",
      "India\n",
      "231\n"
     ]
    }
   ],
   "source": [
    "# Variables must start with letter or underscore(_) and can contain letters, digits and underscores. \n",
    "# They are case sensitive.\n",
    "# Variable names cannot be a reserved keyword in Python.\n",
    "# Python is dynamically typed language, type of a variable is determined during runtime based on the value assigned to it.\n",
    "name = \"Dhanesh\"\n",
    "Name = \"Kumar\"\n",
    "age = 25\n",
    "is_student = True\n",
    "height = 5.9\n",
    "print(name,Name, age, is_student, height)\n",
    "_resident = \"India\"\n",
    "print(_resident)\n",
    "age = \"23\"\n",
    "print(age + \"1\")"
   ]
  },
  {
   "cell_type": "code",
   "execution_count": 20,
   "id": "d2899cb7",
   "metadata": {},
   "outputs": [
    {
     "name": "stdout",
     "output_type": "stream",
     "text": [
      "24\n",
      "23.5\n",
      "23 is my age\n"
     ]
    }
   ],
   "source": [
    "# Type conversion\n",
    "age = int(age)\n",
    "print(age + 1)\n",
    "age = float(age)\n",
    "print(age + 0.5)\n",
    "age = str(int(age))\n",
    "print(age + \" is my age\")"
   ]
  }
 ],
 "metadata": {
  "kernelspec": {
   "display_name": "env",
   "language": "python",
   "name": "python3"
  },
  "language_info": {
   "codemirror_mode": {
    "name": "ipython",
    "version": 3
   },
   "file_extension": ".py",
   "mimetype": "text/x-python",
   "name": "python",
   "nbconvert_exporter": "python",
   "pygments_lexer": "ipython3",
   "version": "3.12.11"
  }
 },
 "nbformat": 4,
 "nbformat_minor": 5
}
