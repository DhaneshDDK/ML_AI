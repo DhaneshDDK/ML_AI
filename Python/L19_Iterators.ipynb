{
 "cells": [
  {
   "cell_type": "code",
   "execution_count": 5,
   "id": "f151023f",
   "metadata": {},
   "outputs": [
    {
     "name": "stdout",
     "output_type": "stream",
     "text": [
      "1 2 2 3 4 \n",
      "1 1 2 3 4 5 \n",
      "Difference : [1, 2, 2, 3, 4]  ****  <list_iterator object at 0x107c625c0>\n"
     ]
    }
   ],
   "source": [
    "# Iterators are advanced python concepts that allow for efficient looping and memory management. Iterators provide a way to access\n",
    "# elements of a collection squentially without exposing the underlying structure\n",
    "\n",
    "my_list = [1,2,2,3,4]\n",
    "my_tuple = (1,1,2,3,4,5)\n",
    "itr1 = iter(my_list)\n",
    "itr2 = iter(my_tuple)\n",
    "\n",
    "try:\n",
    "    while True:\n",
    "        print(next(itr1), end=' ')\n",
    "except StopIteration:\n",
    "    pass\n",
    "\n",
    "print()\n",
    "try:\n",
    "    while True:\n",
    "        print(next(itr2),end=' ')\n",
    "except StopIteration:\n",
    "    pass\n",
    "\n",
    "print()\n",
    "print(f\"Difference : {my_list}  ****  {itr1}\")"
   ]
  },
  {
   "cell_type": "code",
   "execution_count": null,
   "id": "f034991a",
   "metadata": {},
   "outputs": [
    {
     "name": "stdout",
     "output_type": "stream",
     "text": [
      "H e l l o   D h a n e s h !   H o w   a r e   y o u "
     ]
    }
   ],
   "source": [
    "str = \"Hello Dhanesh! How are you\"\n",
    "itr = iter(str)\n",
    "try:\n",
    "    while True:\n",
    "        print(next(itr),end=' ')\n",
    "except StopIteration:\n",
    "    pass"
   ]
  },
  {
   "cell_type": "code",
   "execution_count": 16,
   "id": "d95cd171",
   "metadata": {},
   "outputs": [
    {
     "name": "stdout",
     "output_type": "stream",
     "text": [
      "<class 'str_ascii_iterator'>\n",
      "H e l l o   w o r l d \n",
      "H e l l o   w o r l d "
     ]
    }
   ],
   "source": [
    "str = \"Hello world\"\n",
    "itr = iter(str)\n",
    "itr2 = iter(str)\n",
    "print(type(itr))\n",
    "for x in itr:\n",
    "    print(x, end=' ')\n",
    "print()\n",
    "for y in itr2:\n",
    "    print(y,end=' ')\n"
   ]
  }
 ],
 "metadata": {
  "kernelspec": {
   "display_name": "env",
   "language": "python",
   "name": "python3"
  },
  "language_info": {
   "codemirror_mode": {
    "name": "ipython",
    "version": 3
   },
   "file_extension": ".py",
   "mimetype": "text/x-python",
   "name": "python",
   "nbconvert_exporter": "python",
   "pygments_lexer": "ipython3",
   "version": "3.12.11"
  }
 },
 "nbformat": 4,
 "nbformat_minor": 5
}
