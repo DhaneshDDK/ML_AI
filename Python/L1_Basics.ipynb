{
 "cells": [
  {
   "cell_type": "code",
   "execution_count": null,
   "id": "02bfaf0a",
   "metadata": {},
   "outputs": [],
   "source": [
    "# single line comments\n",
    "'''\n",
    "multi line comments\n",
    "'''"
   ]
  },
  {
   "cell_type": "code",
   "execution_count": 1,
   "id": "3a6c4d37",
   "metadata": {},
   "outputs": [
    {
     "name": "stdout",
     "output_type": "stream",
     "text": [
      "Dhanesh\n",
      "Kumar\n"
     ]
    }
   ],
   "source": [
    "# Python programming langauage is case sensitive\n",
    "name = \"Dhanesh\"\n",
    "Name = \"Kumar\"\n",
    "print(name)\n",
    "print(Name)"
   ]
  },
  {
   "cell_type": "code",
   "execution_count": 5,
   "id": "74125f6d",
   "metadata": {},
   "outputs": [
    {
     "name": "stdout",
     "output_type": "stream",
     "text": [
      "21\n"
     ]
    }
   ],
   "source": [
    "# Line continuation using backslash\n",
    "total = 1+2+3\\\n",
    "        +4+5+6\n",
    "print(total)"
   ]
  },
  {
   "cell_type": "code",
   "execution_count": 6,
   "id": "0270657c",
   "metadata": {},
   "outputs": [
    {
     "name": "stdout",
     "output_type": "stream",
     "text": [
      "10 20 30\n"
     ]
    }
   ],
   "source": [
    "# Multiple statements in a single line using semicolon\n",
    "value1 = 10; value2 = 20; total = value1 + value2\n",
    "print(value1, value2, total)"
   ]
  },
  {
   "cell_type": "code",
   "execution_count": 16,
   "id": "35c701de",
   "metadata": {},
   "outputs": [
    {
     "name": "stdout",
     "output_type": "stream",
     "text": [
      "<class 'int'>\n",
      "<class 'float'>\n",
      "<class 'str'>\n",
      "<class 'bool'>\n"
     ]
    }
   ],
   "source": [
    "# Python understands the data type based on the value assigned to the variable during runtime\n",
    "var1 = 10          # Integer\n",
    "var2 = 10.5       # Float\n",
    "var3 = \"Dhanesh\"  # String\n",
    "var4 = True       # Boolean\n",
    "print(type(var1))\n",
    "print(type(var2))\n",
    "print(type(var3))           \n",
    "print(type(var4))"
   ]
  },
  {
   "cell_type": "code",
   "execution_count": 18,
   "id": "6d3533bb",
   "metadata": {},
   "outputs": [
    {
     "name": "stdout",
     "output_type": "stream",
     "text": [
      "10 <class 'int'>\n",
      "Dhanesh <class 'str'>\n"
     ]
    }
   ],
   "source": [
    "# Variable type can be changed during runtime\n",
    "var = 10\n",
    "print(var, type(var))\n",
    "var = \"Dhanesh\"\n",
    "print(var, type(var))"
   ]
  }
 ],
 "metadata": {
  "kernelspec": {
   "display_name": "env",
   "language": "python",
   "name": "python3"
  },
  "language_info": {
   "codemirror_mode": {
    "name": "ipython",
    "version": 3
   },
   "file_extension": ".py",
   "mimetype": "text/x-python",
   "name": "python",
   "nbconvert_exporter": "python",
   "pygments_lexer": "ipython3",
   "version": "3.12.11"
  }
 },
 "nbformat": 4,
 "nbformat_minor": 5
}
